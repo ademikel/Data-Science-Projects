{
 "cells": [
  {
   "cell_type": "code",
   "execution_count": 1,
   "id": "ed87b549-4097-4893-844c-a6400b0b7209",
   "metadata": {},
   "outputs": [],
   "source": [
    "import pandas as pd \n",
    "\n",
    "from sklearn.pipeline import make_pipeline\n",
    "from sklearn.linear_model import LogisticRegression\n",
    "from sklearn.feature_extraction.text import CountVectorizer\n",
    "\n",
    "df = pd.read_csv(\"goemotions_1.csv\")"
   ]
  },
  {
   "cell_type": "code",
   "execution_count": 2,
   "id": "c77dcd1f-95f9-4564-94ef-b4bbfbf74eb1",
   "metadata": {},
   "outputs": [
    {
     "data": {
      "text/plain": [
       "Index(['text', 'id', 'author', 'subreddit', 'link_id', 'parent_id',\n",
       "       'created_utc', 'rater_id', 'example_very_unclear', 'admiration',\n",
       "       'amusement', 'anger', 'annoyance', 'approval', 'caring', 'confusion',\n",
       "       'curiosity', 'desire', 'disappointment', 'disapproval', 'disgust',\n",
       "       'embarrassment', 'excitement', 'fear', 'gratitude', 'grief', 'joy',\n",
       "       'love', 'nervousness', 'optimism', 'pride', 'realization', 'relief',\n",
       "       'remorse', 'sadness', 'surprise', 'neutral'],\n",
       "      dtype='object')"
      ]
     },
     "execution_count": 2,
     "metadata": {},
     "output_type": "execute_result"
    }
   ],
   "source": [
    "df.columns"
   ]
  },
  {
   "cell_type": "code",
   "execution_count": 3,
   "id": "f15cbd2c-5216-49e2-89f6-32471b24cef1",
   "metadata": {},
   "outputs": [
    {
     "data": {
      "text/html": [
       "<div>\n",
       "<style scoped>\n",
       "    .dataframe tbody tr th:only-of-type {\n",
       "        vertical-align: middle;\n",
       "    }\n",
       "\n",
       "    .dataframe tbody tr th {\n",
       "        vertical-align: top;\n",
       "    }\n",
       "\n",
       "    .dataframe thead th {\n",
       "        text-align: right;\n",
       "    }\n",
       "</style>\n",
       "<table border=\"1\" class=\"dataframe\">\n",
       "  <thead>\n",
       "    <tr style=\"text-align: right;\">\n",
       "      <th></th>\n",
       "      <th>text</th>\n",
       "      <th>excitement</th>\n",
       "    </tr>\n",
       "  </thead>\n",
       "  <tbody>\n",
       "    <tr>\n",
       "      <th>16171</th>\n",
       "      <td>Huh. So it really comes down to looking at her senate career vs her AG career.</td>\n",
       "      <td>0</td>\n",
       "    </tr>\n",
       "    <tr>\n",
       "      <th>909</th>\n",
       "      <td>If you kill a spider instead of putting it outside, you are a grade A bitchmade babyman.</td>\n",
       "      <td>0</td>\n",
       "    </tr>\n",
       "  </tbody>\n",
       "</table>\n",
       "</div>"
      ],
      "text/plain": [
       "                                                                                           text  \\\n",
       "16171            Huh. So it really comes down to looking at her senate career vs her AG career.   \n",
       "909    If you kill a spider instead of putting it outside, you are a grade A bitchmade babyman.   \n",
       "\n",
       "       excitement  \n",
       "16171           0  \n",
       "909             0  "
      ]
     },
     "execution_count": 3,
     "metadata": {},
     "output_type": "execute_result"
    }
   ],
   "source": [
    "pd.set_option('display.max_colwidth', None)\n",
    "\n",
    "df[['text', 'excitement']].loc[lambda d: d['excitement'] == 0].sample(2)"
   ]
  },
  {
   "cell_type": "code",
   "execution_count": 4,
   "id": "fe8d932e-19d3-4f6f-aebc-c2e439a5dda7",
   "metadata": {},
   "outputs": [
    {
     "data": {
      "text/plain": [
       "0    68100\n",
       "1     1900\n",
       "Name: excitement, dtype: int64"
      ]
     },
     "execution_count": 4,
     "metadata": {},
     "output_type": "execute_result"
    }
   ],
   "source": [
    "df['excitement'].value_counts()"
   ]
  },
  {
   "cell_type": "code",
   "execution_count": 5,
   "id": "b2004043-a133-496c-b292-5085e5fa73a1",
   "metadata": {},
   "outputs": [],
   "source": [
    "X, y = df['text'], df['excitement']\n",
    "\n",
    "pipe = make_pipeline(\n",
    "    CountVectorizer(), \n",
    "    LogisticRegression(class_weight='balanced', max_iter=1000)\n",
    ")"
   ]
  },
  {
   "cell_type": "code",
   "execution_count": 6,
   "id": "0a36f785-28b6-4b44-bc55-ecc0fdfa1766",
   "metadata": {},
   "outputs": [
    {
     "name": "stdout",
     "output_type": "stream",
     "text": [
      "CPU times: user 8.32 s, sys: 22.7 s, total: 31 s\n",
      "Wall time: 3.21 s\n"
     ]
    },
    {
     "data": {
      "text/plain": [
       "Pipeline(steps=[('countvectorizer', CountVectorizer()),\n",
       "                ('logisticregression',\n",
       "                 LogisticRegression(class_weight='balanced', max_iter=1000))])"
      ]
     },
     "execution_count": 6,
     "metadata": {},
     "output_type": "execute_result"
    }
   ],
   "source": [
    "%%time \n",
    "\n",
    "pipe.fit(X, y)"
   ]
  },
  {
   "cell_type": "markdown",
   "id": "d4a79b7c-5213-47c3-95c9-289b66be2d93",
   "metadata": {},
   "source": [
    "## Trick 1: Model Uncertainty"
   ]
  },
  {
   "cell_type": "code",
   "execution_count": 7,
   "id": "774d0164-3744-40b4-b31f-348fadb07315",
   "metadata": {},
   "outputs": [
    {
     "data": {
      "text/plain": [
       "array([[0.81905624, 0.18094376],\n",
       "       [0.87339587, 0.12660413],\n",
       "       [0.99887526, 0.00112474],\n",
       "       ...,\n",
       "       [0.95765091, 0.04234909],\n",
       "       [0.89402035, 0.10597965],\n",
       "       [0.97989268, 0.02010732]])"
      ]
     },
     "execution_count": 7,
     "metadata": {},
     "output_type": "execute_result"
    }
   ],
   "source": [
    "pipe.predict_proba(X)"
   ]
  },
  {
   "cell_type": "code",
   "execution_count": 50,
   "id": "a405871c-a9c6-4c8d-a158-6e4066e1f0bd",
   "metadata": {},
   "outputs": [
    {
     "data": {
      "text/html": [
       "<div>\n",
       "<style scoped>\n",
       "    .dataframe tbody tr th:only-of-type {\n",
       "        vertical-align: middle;\n",
       "    }\n",
       "\n",
       "    .dataframe tbody tr th {\n",
       "        vertical-align: top;\n",
       "    }\n",
       "\n",
       "    .dataframe thead th {\n",
       "        text-align: right;\n",
       "    }\n",
       "</style>\n",
       "<table border=\"1\" class=\"dataframe\">\n",
       "  <thead>\n",
       "    <tr style=\"text-align: right;\">\n",
       "      <th></th>\n",
       "      <th>text</th>\n",
       "      <th>excitement</th>\n",
       "    </tr>\n",
       "  </thead>\n",
       "  <tbody>\n",
       "    <tr>\n",
       "      <th>8</th>\n",
       "      <td>that's adorable asf</td>\n",
       "      <td>0</td>\n",
       "    </tr>\n",
       "    <tr>\n",
       "      <th>46</th>\n",
       "      <td>If there’s a pattern, yes.</td>\n",
       "      <td>0</td>\n",
       "    </tr>\n",
       "    <tr>\n",
       "      <th>107</th>\n",
       "      <td>My fans on patreon will be rewarded soon</td>\n",
       "      <td>0</td>\n",
       "    </tr>\n",
       "    <tr>\n",
       "      <th>154</th>\n",
       "      <td>Ones with close ties to SA, anyway. An escaped apostate won't exactly be itching to run home.</td>\n",
       "      <td>0</td>\n",
       "    </tr>\n",
       "    <tr>\n",
       "      <th>158</th>\n",
       "      <td>I really like this ring so I’m glad to hear that.</td>\n",
       "      <td>0</td>\n",
       "    </tr>\n",
       "    <tr>\n",
       "      <th>262</th>\n",
       "      <td>OMG THOSE TINY SHOES! *desire to boop snoot intensifies*</td>\n",
       "      <td>0</td>\n",
       "    </tr>\n",
       "    <tr>\n",
       "      <th>362</th>\n",
       "      <td>This. I relate to this. So much. Almost too much.</td>\n",
       "      <td>0</td>\n",
       "    </tr>\n",
       "  </tbody>\n",
       "</table>\n",
       "</div>"
      ],
      "text/plain": [
       "                                                                                              text  \\\n",
       "8                                                                              that's adorable asf   \n",
       "46                                                                      If there’s a pattern, yes.   \n",
       "107                                                       My fans on patreon will be rewarded soon   \n",
       "154  Ones with close ties to SA, anyway. An escaped apostate won't exactly be itching to run home.   \n",
       "158                                              I really like this ring so I’m glad to hear that.   \n",
       "262                                       OMG THOSE TINY SHOES! *desire to boop snoot intensifies*   \n",
       "362                                              This. I relate to this. So much. Almost too much.   \n",
       "\n",
       "     excitement  \n",
       "8             0  \n",
       "46            0  \n",
       "107           0  \n",
       "154           0  \n",
       "158           0  \n",
       "262           0  \n",
       "362           0  "
      ]
     },
     "execution_count": 50,
     "metadata": {},
     "output_type": "execute_result"
    }
   ],
   "source": [
    "# make predictions \n",
    "probas = pipe.predict_proba(X)[:, 0] \n",
    "\n",
    "# use predictions in hindsight\n",
    "(df\n",
    " .loc[(probas > 0.45) & (probas < 0.55)]\n",
    " [['text', 'excitement']]\n",
    " .head(7))"
   ]
  },
  {
   "cell_type": "markdown",
   "id": "fd5babd8-bd5e-426b-b98c-6798f6cbe2c9",
   "metadata": {},
   "source": [
    "<br><br><br><br><br><br><br><br><br><br><br><br><br><br>\n",
    "\n",
    "## Trick 2: Model Disagreement"
   ]
  },
  {
   "cell_type": "code",
   "execution_count": 10,
   "id": "83253728-7226-46c8-beb8-d3386381205c",
   "metadata": {},
   "outputs": [
    {
     "data": {
      "text/plain": [
       "(5315, 37)"
      ]
     },
     "execution_count": 10,
     "metadata": {},
     "output_type": "execute_result"
    }
   ],
   "source": [
    "df.loc[lambda d: d['excitement'] != pipe.predict(X)].shape"
   ]
  },
  {
   "cell_type": "code",
   "execution_count": 11,
   "id": "54c2b3d5-7873-4d54-a9b5-34baa8a93e36",
   "metadata": {},
   "outputs": [],
   "source": [
    "def correct_class_confidence(X, y, mod):\n",
    "    \"\"\"\n",
    "    Gives the predicted confidence (or proba) associated\n",
    "    with the correct label `y` from a given model.\n",
    "    \"\"\"\n",
    "    probas = mod.predict_proba(X)\n",
    "    values = []\n",
    "    for i, proba in enumerate(probas):\n",
    "        proba_dict = {mod.classes_[j]: v for j, v in enumerate(proba)}\n",
    "        values.append(proba_dict[y[i]])\n",
    "    return values"
   ]
  },
  {
   "cell_type": "code",
   "execution_count": 12,
   "id": "c10cd492-981f-41e1-b448-fcc2ab9eb5fa",
   "metadata": {},
   "outputs": [
    {
     "data": {
      "text/html": [
       "<div>\n",
       "<style scoped>\n",
       "    .dataframe tbody tr th:only-of-type {\n",
       "        vertical-align: middle;\n",
       "    }\n",
       "\n",
       "    .dataframe tbody tr th {\n",
       "        vertical-align: top;\n",
       "    }\n",
       "\n",
       "    .dataframe thead th {\n",
       "        text-align: right;\n",
       "    }\n",
       "</style>\n",
       "<table border=\"1\" class=\"dataframe\">\n",
       "  <thead>\n",
       "    <tr style=\"text-align: right;\">\n",
       "      <th></th>\n",
       "      <th>text</th>\n",
       "      <th>excitement</th>\n",
       "      <th>confidence</th>\n",
       "    </tr>\n",
       "  </thead>\n",
       "  <tbody>\n",
       "    <tr>\n",
       "      <th>5676</th>\n",
       "      <td>I am inexplicably excited by [NAME]. I get so excited by how he curls passes</td>\n",
       "      <td>0</td>\n",
       "      <td>0.000148</td>\n",
       "    </tr>\n",
       "    <tr>\n",
       "      <th>42757</th>\n",
       "      <td>Omg this is so amazing ! Keep up the awesome work and have a fantastic New Year !</td>\n",
       "      <td>0</td>\n",
       "      <td>0.000187</td>\n",
       "    </tr>\n",
       "    <tr>\n",
       "      <th>28707</th>\n",
       "      <td>Omg this is so amazing ! Keep up the awesome work and have a fantastic New Year !</td>\n",
       "      <td>0</td>\n",
       "      <td>0.000187</td>\n",
       "    </tr>\n",
       "    <tr>\n",
       "      <th>24756</th>\n",
       "      <td>Sounds like a fun game. Our home game around here is .05/.10. Its fun but not very exciting.</td>\n",
       "      <td>0</td>\n",
       "      <td>0.000262</td>\n",
       "    </tr>\n",
       "    <tr>\n",
       "      <th>44459</th>\n",
       "      <td>So no replays for arsenal penalty calls.. Cool cool cool cool cool cool cool cool</td>\n",
       "      <td>0</td>\n",
       "      <td>0.000594</td>\n",
       "    </tr>\n",
       "    <tr>\n",
       "      <th>20823</th>\n",
       "      <td>Wow, your posting history is a real... interesting ride.</td>\n",
       "      <td>0</td>\n",
       "      <td>0.000719</td>\n",
       "    </tr>\n",
       "    <tr>\n",
       "      <th>69395</th>\n",
       "      <td>Wow, your posting history is a real... interesting ride.</td>\n",
       "      <td>0</td>\n",
       "      <td>0.000719</td>\n",
       "    </tr>\n",
       "    <tr>\n",
       "      <th>2001</th>\n",
       "      <td>No different than people making a big deal about their team winning the super bowl. People find it interesting.</td>\n",
       "      <td>0</td>\n",
       "      <td>0.000741</td>\n",
       "    </tr>\n",
       "    <tr>\n",
       "      <th>30921</th>\n",
       "      <td>Hey congrats!! That's amazing, you've done such amazing progress! Hope you have a great day :)</td>\n",
       "      <td>0</td>\n",
       "      <td>0.000813</td>\n",
       "    </tr>\n",
       "    <tr>\n",
       "      <th>39475</th>\n",
       "      <td>I just read your list and now I can't wait, either!! Hurry up with the happy, relieved and peaceful onward and upward!! Congratulations😎</td>\n",
       "      <td>0</td>\n",
       "      <td>0.001128</td>\n",
       "    </tr>\n",
       "    <tr>\n",
       "      <th>31370</th>\n",
       "      <td>Wait wait wait... did [NAME] go 61-27??</td>\n",
       "      <td>0</td>\n",
       "      <td>0.001501</td>\n",
       "    </tr>\n",
       "    <tr>\n",
       "      <th>28410</th>\n",
       "      <td>Happy New Year! Looks like you had a great time there! Cheers! Here’s to a great 2019 hopefully in both baseball and life!</td>\n",
       "      <td>0</td>\n",
       "      <td>0.001581</td>\n",
       "    </tr>\n",
       "    <tr>\n",
       "      <th>68537</th>\n",
       "      <td>I absolutely love that idea. I went on an anniversary trip with a couple once and it was amazing! We had so much fun.</td>\n",
       "      <td>0</td>\n",
       "      <td>0.002147</td>\n",
       "    </tr>\n",
       "    <tr>\n",
       "      <th>2656</th>\n",
       "      <td>Why am I excited for the new season</td>\n",
       "      <td>0</td>\n",
       "      <td>0.002787</td>\n",
       "    </tr>\n",
       "    <tr>\n",
       "      <th>30654</th>\n",
       "      <td>Omg yesssss. It’s such an amazing combo</td>\n",
       "      <td>0</td>\n",
       "      <td>0.002806</td>\n",
       "    </tr>\n",
       "    <tr>\n",
       "      <th>46348</th>\n",
       "      <td>Omg yesssss. It’s such an amazing combo</td>\n",
       "      <td>0</td>\n",
       "      <td>0.002806</td>\n",
       "    </tr>\n",
       "    <tr>\n",
       "      <th>32501</th>\n",
       "      <td>Once a week. It was a semi expensive seafood place, but it also had a poppin sports bar/happy hour vibe. An interesting place for sure</td>\n",
       "      <td>0</td>\n",
       "      <td>0.003010</td>\n",
       "    </tr>\n",
       "    <tr>\n",
       "      <th>32841</th>\n",
       "      <td>I hope. Sirens got me excited</td>\n",
       "      <td>0</td>\n",
       "      <td>0.003211</td>\n",
       "    </tr>\n",
       "    <tr>\n",
       "      <th>33600</th>\n",
       "      <td>Happy cake day bro... or ma'am. You have to see this to really take it in.</td>\n",
       "      <td>0</td>\n",
       "      <td>0.003259</td>\n",
       "    </tr>\n",
       "    <tr>\n",
       "      <th>11233</th>\n",
       "      <td>Love situations like this...excited to see if he'll make it by tomorrow</td>\n",
       "      <td>0</td>\n",
       "      <td>0.003308</td>\n",
       "    </tr>\n",
       "  </tbody>\n",
       "</table>\n",
       "</div>"
      ],
      "text/plain": [
       "                                                                                                                                           text  \\\n",
       "5676                                                               I am inexplicably excited by [NAME]. I get so excited by how he curls passes   \n",
       "42757                                                         Omg this is so amazing ! Keep up the awesome work and have a fantastic New Year !   \n",
       "28707                                                         Omg this is so amazing ! Keep up the awesome work and have a fantastic New Year !   \n",
       "24756                                              Sounds like a fun game. Our home game around here is .05/.10. Its fun but not very exciting.   \n",
       "44459                                                         So no replays for arsenal penalty calls.. Cool cool cool cool cool cool cool cool   \n",
       "20823                                                                                  Wow, your posting history is a real... interesting ride.   \n",
       "69395                                                                                  Wow, your posting history is a real... interesting ride.   \n",
       "2001                            No different than people making a big deal about their team winning the super bowl. People find it interesting.   \n",
       "30921                                            Hey congrats!! That's amazing, you've done such amazing progress! Hope you have a great day :)   \n",
       "39475  I just read your list and now I can't wait, either!! Hurry up with the happy, relieved and peaceful onward and upward!! Congratulations😎   \n",
       "31370                                                                                                   Wait wait wait... did [NAME] go 61-27??   \n",
       "28410                Happy New Year! Looks like you had a great time there! Cheers! Here’s to a great 2019 hopefully in both baseball and life!   \n",
       "68537                     I absolutely love that idea. I went on an anniversary trip with a couple once and it was amazing! We had so much fun.   \n",
       "2656                                                                                                        Why am I excited for the new season   \n",
       "30654                                                                                                   Omg yesssss. It’s such an amazing combo   \n",
       "46348                                                                                                   Omg yesssss. It’s such an amazing combo   \n",
       "32501   Once a week. It was a semi expensive seafood place, but it also had a poppin sports bar/happy hour vibe. An interesting place for sure    \n",
       "32841                                                                                                             I hope. Sirens got me excited   \n",
       "33600                                                                Happy cake day bro... or ma'am. You have to see this to really take it in.   \n",
       "11233                                                                   Love situations like this...excited to see if he'll make it by tomorrow   \n",
       "\n",
       "       excitement  confidence  \n",
       "5676            0    0.000148  \n",
       "42757           0    0.000187  \n",
       "28707           0    0.000187  \n",
       "24756           0    0.000262  \n",
       "44459           0    0.000594  \n",
       "20823           0    0.000719  \n",
       "69395           0    0.000719  \n",
       "2001            0    0.000741  \n",
       "30921           0    0.000813  \n",
       "39475           0    0.001128  \n",
       "31370           0    0.001501  \n",
       "28410           0    0.001581  \n",
       "68537           0    0.002147  \n",
       "2656            0    0.002787  \n",
       "30654           0    0.002806  \n",
       "46348           0    0.002806  \n",
       "32501           0    0.003010  \n",
       "32841           0    0.003211  \n",
       "33600           0    0.003259  \n",
       "11233           0    0.003308  "
      ]
     },
     "execution_count": 12,
     "metadata": {},
     "output_type": "execute_result"
    }
   ],
   "source": [
    "(df\n",
    " .assign(confidence=correct_class_confidence(X, y, pipe))\n",
    " .loc[lambda d: pipe.predict(d['text']) != d['excitement']]\n",
    " [['text', 'excitement', 'confidence']]\n",
    " .sort_values(\"confidence\")\n",
    " .loc[lambda d: d['excitement'] == 0]\n",
    " .head(20))"
   ]
  },
  {
   "cell_type": "markdown",
   "id": "cc2d4f3b-34e1-4c7a-8195-b440379c74eb",
   "metadata": {},
   "source": [
    "## Trick 3: Cleanlab Noise Indices"
   ]
  },
  {
   "cell_type": "code",
   "execution_count": 20,
   "id": "720fac7a-423e-498b-811c-630a05177f04",
   "metadata": {},
   "outputs": [],
   "source": [
    "from cleanlab.pruning import get_noise_indices\n",
    "\n",
    "ordered_label_errors = get_noise_indices(\n",
    "    s=y,\n",
    "    psx=pipe.predict_proba(X),\n",
    "    sorted_index_method='prob_given_label',\n",
    " )"
   ]
  },
  {
   "cell_type": "code",
   "execution_count": 24,
   "id": "06498c75-5e05-4b38-85ba-a712742997d9",
   "metadata": {},
   "outputs": [
    {
     "data": {
      "text/html": [
       "<div>\n",
       "<style scoped>\n",
       "    .dataframe tbody tr th:only-of-type {\n",
       "        vertical-align: middle;\n",
       "    }\n",
       "\n",
       "    .dataframe tbody tr th {\n",
       "        vertical-align: top;\n",
       "    }\n",
       "\n",
       "    .dataframe thead th {\n",
       "        text-align: right;\n",
       "    }\n",
       "</style>\n",
       "<table border=\"1\" class=\"dataframe\">\n",
       "  <thead>\n",
       "    <tr style=\"text-align: right;\">\n",
       "      <th></th>\n",
       "      <th>text</th>\n",
       "      <th>excitement</th>\n",
       "    </tr>\n",
       "  </thead>\n",
       "  <tbody>\n",
       "    <tr>\n",
       "      <th>5676</th>\n",
       "      <td>I am inexplicably excited by [NAME]. I get so excited by how he curls passes</td>\n",
       "      <td>0</td>\n",
       "    </tr>\n",
       "    <tr>\n",
       "      <th>28707</th>\n",
       "      <td>Omg this is so amazing ! Keep up the awesome work and have a fantastic New Year !</td>\n",
       "      <td>0</td>\n",
       "    </tr>\n",
       "    <tr>\n",
       "      <th>42757</th>\n",
       "      <td>Omg this is so amazing ! Keep up the awesome work and have a fantastic New Year !</td>\n",
       "      <td>0</td>\n",
       "    </tr>\n",
       "    <tr>\n",
       "      <th>24756</th>\n",
       "      <td>Sounds like a fun game. Our home game around here is .05/.10. Its fun but not very exciting.</td>\n",
       "      <td>0</td>\n",
       "    </tr>\n",
       "    <tr>\n",
       "      <th>44459</th>\n",
       "      <td>So no replays for arsenal penalty calls.. Cool cool cool cool cool cool cool cool</td>\n",
       "      <td>0</td>\n",
       "    </tr>\n",
       "    <tr>\n",
       "      <th>20823</th>\n",
       "      <td>Wow, your posting history is a real... interesting ride.</td>\n",
       "      <td>0</td>\n",
       "    </tr>\n",
       "    <tr>\n",
       "      <th>69395</th>\n",
       "      <td>Wow, your posting history is a real... interesting ride.</td>\n",
       "      <td>0</td>\n",
       "    </tr>\n",
       "    <tr>\n",
       "      <th>2001</th>\n",
       "      <td>No different than people making a big deal about their team winning the super bowl. People find it interesting.</td>\n",
       "      <td>0</td>\n",
       "    </tr>\n",
       "    <tr>\n",
       "      <th>30921</th>\n",
       "      <td>Hey congrats!! That's amazing, you've done such amazing progress! Hope you have a great day :)</td>\n",
       "      <td>0</td>\n",
       "    </tr>\n",
       "    <tr>\n",
       "      <th>39475</th>\n",
       "      <td>I just read your list and now I can't wait, either!! Hurry up with the happy, relieved and peaceful onward and upward!! Congratulations😎</td>\n",
       "      <td>0</td>\n",
       "    </tr>\n",
       "    <tr>\n",
       "      <th>31370</th>\n",
       "      <td>Wait wait wait... did [NAME] go 61-27??</td>\n",
       "      <td>0</td>\n",
       "    </tr>\n",
       "    <tr>\n",
       "      <th>28410</th>\n",
       "      <td>Happy New Year! Looks like you had a great time there! Cheers! Here’s to a great 2019 hopefully in both baseball and life!</td>\n",
       "      <td>0</td>\n",
       "    </tr>\n",
       "    <tr>\n",
       "      <th>68537</th>\n",
       "      <td>I absolutely love that idea. I went on an anniversary trip with a couple once and it was amazing! We had so much fun.</td>\n",
       "      <td>0</td>\n",
       "    </tr>\n",
       "    <tr>\n",
       "      <th>2656</th>\n",
       "      <td>Why am I excited for the new season</td>\n",
       "      <td>0</td>\n",
       "    </tr>\n",
       "    <tr>\n",
       "      <th>30654</th>\n",
       "      <td>Omg yesssss. It’s such an amazing combo</td>\n",
       "      <td>0</td>\n",
       "    </tr>\n",
       "    <tr>\n",
       "      <th>46348</th>\n",
       "      <td>Omg yesssss. It’s such an amazing combo</td>\n",
       "      <td>0</td>\n",
       "    </tr>\n",
       "    <tr>\n",
       "      <th>32501</th>\n",
       "      <td>Once a week. It was a semi expensive seafood place, but it also had a poppin sports bar/happy hour vibe. An interesting place for sure</td>\n",
       "      <td>0</td>\n",
       "    </tr>\n",
       "    <tr>\n",
       "      <th>32841</th>\n",
       "      <td>I hope. Sirens got me excited</td>\n",
       "      <td>0</td>\n",
       "    </tr>\n",
       "    <tr>\n",
       "      <th>33600</th>\n",
       "      <td>Happy cake day bro... or ma'am. You have to see this to really take it in.</td>\n",
       "      <td>0</td>\n",
       "    </tr>\n",
       "    <tr>\n",
       "      <th>11233</th>\n",
       "      <td>Love situations like this...excited to see if he'll make it by tomorrow</td>\n",
       "      <td>0</td>\n",
       "    </tr>\n",
       "  </tbody>\n",
       "</table>\n",
       "</div>"
      ],
      "text/plain": [
       "                                                                                                                                           text  \\\n",
       "5676                                                               I am inexplicably excited by [NAME]. I get so excited by how he curls passes   \n",
       "28707                                                         Omg this is so amazing ! Keep up the awesome work and have a fantastic New Year !   \n",
       "42757                                                         Omg this is so amazing ! Keep up the awesome work and have a fantastic New Year !   \n",
       "24756                                              Sounds like a fun game. Our home game around here is .05/.10. Its fun but not very exciting.   \n",
       "44459                                                         So no replays for arsenal penalty calls.. Cool cool cool cool cool cool cool cool   \n",
       "20823                                                                                  Wow, your posting history is a real... interesting ride.   \n",
       "69395                                                                                  Wow, your posting history is a real... interesting ride.   \n",
       "2001                            No different than people making a big deal about their team winning the super bowl. People find it interesting.   \n",
       "30921                                            Hey congrats!! That's amazing, you've done such amazing progress! Hope you have a great day :)   \n",
       "39475  I just read your list and now I can't wait, either!! Hurry up with the happy, relieved and peaceful onward and upward!! Congratulations😎   \n",
       "31370                                                                                                   Wait wait wait... did [NAME] go 61-27??   \n",
       "28410                Happy New Year! Looks like you had a great time there! Cheers! Here’s to a great 2019 hopefully in both baseball and life!   \n",
       "68537                     I absolutely love that idea. I went on an anniversary trip with a couple once and it was amazing! We had so much fun.   \n",
       "2656                                                                                                        Why am I excited for the new season   \n",
       "30654                                                                                                   Omg yesssss. It’s such an amazing combo   \n",
       "46348                                                                                                   Omg yesssss. It’s such an amazing combo   \n",
       "32501   Once a week. It was a semi expensive seafood place, but it also had a poppin sports bar/happy hour vibe. An interesting place for sure    \n",
       "32841                                                                                                             I hope. Sirens got me excited   \n",
       "33600                                                                Happy cake day bro... or ma'am. You have to see this to really take it in.   \n",
       "11233                                                                   Love situations like this...excited to see if he'll make it by tomorrow   \n",
       "\n",
       "       excitement  \n",
       "5676            0  \n",
       "28707           0  \n",
       "42757           0  \n",
       "24756           0  \n",
       "44459           0  \n",
       "20823           0  \n",
       "69395           0  \n",
       "2001            0  \n",
       "30921           0  \n",
       "39475           0  \n",
       "31370           0  \n",
       "28410           0  \n",
       "68537           0  \n",
       "2656            0  \n",
       "30654           0  \n",
       "46348           0  \n",
       "32501           0  \n",
       "32841           0  \n",
       "33600           0  \n",
       "11233           0  "
      ]
     },
     "execution_count": 24,
     "metadata": {},
     "output_type": "execute_result"
    }
   ],
   "source": [
    "df.iloc[ordered_label_errors][['text', 'excitement']].head(20)"
   ]
  },
  {
   "cell_type": "markdown",
   "id": "72e90ac0-a1dc-48b4-a334-6830921293c5",
   "metadata": {},
   "source": [
    "## Trick 4: Cleanlab Predictions"
   ]
  },
  {
   "cell_type": "code",
   "execution_count": 31,
   "id": "4b1a66e4-5197-4733-9e52-35eea3b3bf01",
   "metadata": {},
   "outputs": [
    {
     "data": {
      "text/plain": [
       "Pipeline(steps=[('countvectorizer', CountVectorizer()),\n",
       "                ('logisticregression',\n",
       "                 LogisticRegression(class_weight='balanced', max_iter=1000))])"
      ]
     },
     "execution_count": 31,
     "metadata": {},
     "output_type": "execute_result"
    }
   ],
   "source": [
    "from cleanlab.classification import LearningWithNoisyLabels\n",
    "from sklearn.linear_model import LogisticRegression\n",
    "\n",
    "# Wrap around any classifier that has `sample_weights`.\n",
    "fresh_pipe = make_pipeline(\n",
    "    CountVectorizer(), \n",
    "    LogisticRegression(class_weight='balanced', max_iter=1000)\n",
    ")\n",
    "lnl = LearningWithNoisyLabels(clf=fresh_pipe)\n",
    "\n",
    "lnl.fit(X=X, s=y.values)"
   ]
  },
  {
   "cell_type": "code",
   "execution_count": 39,
   "id": "a8456eef-25fc-4274-9656-5ccf3d897ec3",
   "metadata": {},
   "outputs": [
    {
     "data": {
      "text/plain": [
       "Pipeline(steps=[('countvectorizer', CountVectorizer()),\n",
       "                ('logisticregression',\n",
       "                 LogisticRegression(class_weight='balanced', max_iter=1000))])"
      ]
     },
     "execution_count": 39,
     "metadata": {},
     "output_type": "execute_result"
    }
   ],
   "source": [
    "new_pipe = make_pipeline(\n",
    "    CountVectorizer(), \n",
    "    LogisticRegression(class_weight='balanced', max_iter=1000)\n",
    ")\n",
    "\n",
    "new_pipe.fit(X=X, y=y)"
   ]
  },
  {
   "cell_type": "code",
   "execution_count": 45,
   "id": "df33ecc4-f95a-445e-8e3a-0b5255f22c01",
   "metadata": {},
   "outputs": [
    {
     "data": {
      "text/html": [
       "<div>\n",
       "<style scoped>\n",
       "    .dataframe tbody tr th:only-of-type {\n",
       "        vertical-align: middle;\n",
       "    }\n",
       "\n",
       "    .dataframe tbody tr th {\n",
       "        vertical-align: top;\n",
       "    }\n",
       "\n",
       "    .dataframe thead th {\n",
       "        text-align: right;\n",
       "    }\n",
       "</style>\n",
       "<table border=\"1\" class=\"dataframe\">\n",
       "  <thead>\n",
       "    <tr style=\"text-align: right;\">\n",
       "      <th></th>\n",
       "      <th>text</th>\n",
       "      <th>excitement</th>\n",
       "    </tr>\n",
       "  </thead>\n",
       "  <tbody>\n",
       "    <tr>\n",
       "      <th>9366</th>\n",
       "      <td>Those are the [NAME], they sing backup for [NAME]. They’re awesome!</td>\n",
       "      <td>0</td>\n",
       "    </tr>\n",
       "    <tr>\n",
       "      <th>57511</th>\n",
       "      <td>Ooh I thoughy today was last day. Damn it I spent 10 hrs playing HvV today😑.</td>\n",
       "      <td>0</td>\n",
       "    </tr>\n",
       "    <tr>\n",
       "      <th>39613</th>\n",
       "      <td>Oh my [NAME]. The hand mixer instead of forks. Shredding poultry is like my least favorite thing on Earth</td>\n",
       "      <td>0</td>\n",
       "    </tr>\n",
       "    <tr>\n",
       "      <th>41001</th>\n",
       "      <td>Same. It's my favorite show to watch in the morning. The whole crew is so likeable.</td>\n",
       "      <td>0</td>\n",
       "    </tr>\n",
       "    <tr>\n",
       "      <th>21352</th>\n",
       "      <td>Interested in Carlton stuff.</td>\n",
       "      <td>0</td>\n",
       "    </tr>\n",
       "  </tbody>\n",
       "</table>\n",
       "</div>"
      ],
      "text/plain": [
       "                                                                                                            text  \\\n",
       "9366                                         Those are the [NAME], they sing backup for [NAME]. They’re awesome!   \n",
       "57511                               Ooh I thoughy today was last day. Damn it I spent 10 hrs playing HvV today😑.   \n",
       "39613  Oh my [NAME]. The hand mixer instead of forks. Shredding poultry is like my least favorite thing on Earth   \n",
       "41001                        Same. It's my favorite show to watch in the morning. The whole crew is so likeable.   \n",
       "21352                                                                               Interested in Carlton stuff.   \n",
       "\n",
       "       excitement  \n",
       "9366            0  \n",
       "57511           0  \n",
       "39613           0  \n",
       "41001           0  \n",
       "21352           0  "
      ]
     },
     "execution_count": 45,
     "metadata": {},
     "output_type": "execute_result"
    }
   ],
   "source": [
    "df.loc[lnl.predict(X) != new_pipe.predict(X)][['text', 'excitement']].sample(5)"
   ]
  }
 ],
 "metadata": {
  "kernelspec": {
   "display_name": "Python 3 (ipykernel)",
   "language": "python",
   "name": "python3"
  },
  "language_info": {
   "codemirror_mode": {
    "name": "ipython",
    "version": 3
   },
   "file_extension": ".py",
   "mimetype": "text/x-python",
   "name": "python",
   "nbconvert_exporter": "python",
   "pygments_lexer": "ipython3",
   "version": "3.7.9"
  }
 },
 "nbformat": 4,
 "nbformat_minor": 5
}
