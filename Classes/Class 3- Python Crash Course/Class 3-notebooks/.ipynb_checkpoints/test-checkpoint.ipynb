{
 "cells": [
  {
   "cell_type": "code",
   "execution_count": 5,
   "id": "68445a0a-6406-4c97-9431-c2f2613f79dd",
   "metadata": {},
   "outputs": [],
   "source": [
    "name = 'abigail'\n",
    "age = 14"
   ]
  },
  {
   "cell_type": "code",
   "execution_count": 7,
   "id": "a9ded032-154d-4f7f-bc81-68952632d39a",
   "metadata": {},
   "outputs": [
    {
     "data": {
      "text/plain": [
       "'my name is abigail and, i am 14 years old'"
      ]
     },
     "execution_count": 7,
     "metadata": {},
     "output_type": "execute_result"
    }
   ],
   "source": [
    "'my name is {} and, i am {} years old'.format(name,age)  # using the format method"
   ]
  },
  {
   "cell_type": "code",
   "execution_count": 157,
   "id": "53bb0052-1459-4089-b1f2-bc970b92dfc4",
   "metadata": {},
   "outputs": [
    {
     "data": {
      "text/plain": [
       "[-101.0, -101.0, -101.0, -101.0, -100.0, -98.0]"
      ]
     },
     "execution_count": 157,
     "metadata": {},
     "output_type": "execute_result"
    }
   ],
   "source": [
    "from numpy import random\n",
    "arr = list(random.randn(6).round(2)*100)\n",
    "arr\n",
    "[x//100-100 for x in arr] # list comprehension"
   ]
  },
  {
   "cell_type": "code",
   "execution_count": 168,
   "id": "ea7f03d3-2f4d-410c-bd17-e00197cb4925",
   "metadata": {},
   "outputs": [
    {
     "data": {
      "text/plain": [
       "3"
      ]
     },
     "execution_count": 168,
     "metadata": {},
     "output_type": "execute_result"
    }
   ],
   "source": [
    "10^9"
   ]
  },
  {
   "cell_type": "code",
   "execution_count": 169,
   "id": "7eb278c8-3bd6-4072-8453-da2320b3af6a",
   "metadata": {},
   "outputs": [
    {
     "data": {
      "text/plain": [
       "\u001b[1;31mSignature:\u001b[0m \u001b[0many\u001b[0m\u001b[1;33m(\u001b[0m\u001b[0miterable\u001b[0m\u001b[1;33m,\u001b[0m \u001b[1;33m/\u001b[0m\u001b[1;33m)\u001b[0m\u001b[1;33m\u001b[0m\u001b[1;33m\u001b[0m\u001b[0m\n",
       "\u001b[1;31mDocstring:\u001b[0m\n",
       "Return True if bool(x) is True for any x in the iterable.\n",
       "\n",
       "If the iterable is empty, return False.\n",
       "\u001b[1;31mType:\u001b[0m      builtin_function_or_method\n"
      ]
     },
     "metadata": {},
     "output_type": "display_data"
    }
   ],
   "source": [
    "any?"
   ]
  },
  {
   "cell_type": "markdown",
   "id": "1ce9e1b5-78f3-4de5-a80f-d2563b9e1b64",
   "metadata": {},
   "source": [
    "INPLACE"
   ]
  },
  {
   "cell_type": "code",
   "execution_count": 1,
   "id": "7986224a-9eab-4538-9c13-7511080e0192",
   "metadata": {},
   "outputs": [],
   "source": [
    "# INPLACE TRUE AND FALSE"
   ]
  },
  {
   "cell_type": "code",
   "execution_count": 3,
   "id": "2dfbd839-252a-48ae-815d-e948a51aafd0",
   "metadata": {},
   "outputs": [],
   "source": [
    "import pandas as pd\n",
    "import numpy as np"
   ]
  },
  {
   "cell_type": "code",
   "execution_count": 44,
   "id": "6a1de2b6-e6f9-4291-9fc3-40e8bd6446a3",
   "metadata": {},
   "outputs": [
    {
     "data": {
      "text/html": [
       "<div>\n",
       "<style scoped>\n",
       "    .dataframe tbody tr th:only-of-type {\n",
       "        vertical-align: middle;\n",
       "    }\n",
       "\n",
       "    .dataframe tbody tr th {\n",
       "        vertical-align: top;\n",
       "    }\n",
       "\n",
       "    .dataframe thead th {\n",
       "        text-align: right;\n",
       "    }\n",
       "</style>\n",
       "<table border=\"1\" class=\"dataframe\">\n",
       "  <thead>\n",
       "    <tr style=\"text-align: right;\">\n",
       "      <th></th>\n",
       "      <th>Population</th>\n",
       "      <th>GDP</th>\n",
       "      <th>Surface</th>\n",
       "      <th>HDI</th>\n",
       "      <th>Continent</th>\n",
       "    </tr>\n",
       "  </thead>\n",
       "  <tbody>\n",
       "    <tr>\n",
       "      <th>Canada</th>\n",
       "      <td>NaN</td>\n",
       "      <td>1785387.0</td>\n",
       "      <td>NaN</td>\n",
       "      <td>0.913</td>\n",
       "      <td>America</td>\n",
       "    </tr>\n",
       "    <tr>\n",
       "      <th>France</th>\n",
       "      <td>63.951</td>\n",
       "      <td>2833687.0</td>\n",
       "      <td>640679.0</td>\n",
       "      <td>0.888</td>\n",
       "      <td>Europe</td>\n",
       "    </tr>\n",
       "    <tr>\n",
       "      <th>Germany</th>\n",
       "      <td>80.940</td>\n",
       "      <td>3874437.0</td>\n",
       "      <td>357114.0</td>\n",
       "      <td>NaN</td>\n",
       "      <td>Europe</td>\n",
       "    </tr>\n",
       "    <tr>\n",
       "      <th>Italy</th>\n",
       "      <td>60.665</td>\n",
       "      <td>2167744.0</td>\n",
       "      <td>NaN</td>\n",
       "      <td>NaN</td>\n",
       "      <td>None</td>\n",
       "    </tr>\n",
       "    <tr>\n",
       "      <th>Japan</th>\n",
       "      <td>NaN</td>\n",
       "      <td>4602367.0</td>\n",
       "      <td>377930.0</td>\n",
       "      <td>0.891</td>\n",
       "      <td>Asia</td>\n",
       "    </tr>\n",
       "    <tr>\n",
       "      <th>United Kingdom</th>\n",
       "      <td>64.511</td>\n",
       "      <td>NaN</td>\n",
       "      <td>242495.0</td>\n",
       "      <td>0.907</td>\n",
       "      <td>Europe</td>\n",
       "    </tr>\n",
       "    <tr>\n",
       "      <th>United States</th>\n",
       "      <td>318.523</td>\n",
       "      <td>NaN</td>\n",
       "      <td>9525067.0</td>\n",
       "      <td>NaN</td>\n",
       "      <td>America</td>\n",
       "    </tr>\n",
       "  </tbody>\n",
       "</table>\n",
       "</div>"
      ],
      "text/plain": [
       "                Population        GDP    Surface    HDI Continent\n",
       "Canada                 NaN  1785387.0        NaN  0.913   America\n",
       "France              63.951  2833687.0   640679.0  0.888    Europe\n",
       "Germany             80.940  3874437.0   357114.0    NaN    Europe\n",
       "Italy               60.665  2167744.0        NaN    NaN      None\n",
       "Japan                  NaN  4602367.0   377930.0  0.891      Asia\n",
       "United Kingdom      64.511        NaN   242495.0  0.907    Europe\n",
       "United States      318.523        NaN  9525067.0    NaN   America"
      ]
     },
     "execution_count": 44,
     "metadata": {},
     "output_type": "execute_result"
    }
   ],
   "source": [
    "dframe=pd.DataFrame({\n",
    "    'Population':[None,63.951,80.94,60.665,None,64.511,318.523],\n",
    "    'GDP':[1785387,2833687,3874437,2167744,4602367,None,None],\n",
    "    'Surface':[None,640679,357114,None,377930,242495,9525067],\n",
    "    'HDI':[0.913,0.888,None,None,0.891,0.907,None],\n",
    "    'Continent':['America','Europe','Europe',None,'Asia','Europe','America']},)\n",
    "#     columns=['Population','GDP','Surface','HDI','Continent'])\n",
    "#     adding the column is optional, as the code will still run without the column.\n",
    "dframe.index=['Canada','France','Germany','Italy','Japan','United Kingdom','United States']\n",
    "df1 = dframe.copy()\n",
    "df2 = dframe.copy()\n",
    "dframe\n",
    "df1"
   ]
  },
  {
   "cell_type": "code",
   "execution_count": 50,
   "id": "f19e4f16-408a-42aa-9743-db8c59e719c8",
   "metadata": {},
   "outputs": [],
   "source": [
    "# axis can be used in dropping values (or data) from the dataframe\n",
    "# df1.dropna(axis = 0)\n",
    "# df1.dropna(axis = 1)\n",
    "\n",
    "df1.dropna(inplace = False)\n",
    "# inplace is by default false i.e. inplace = False, and it returns the value i.e result, while\n",
    "df1.dropna(inplace =True)\n",
    "# inplace = True does not return any value i.e result"
   ]
  },
  {
   "cell_type": "code",
   "execution_count": 51,
   "id": "4f5f7c6a-99ad-47ba-85c3-fbca7e801e3c",
   "metadata": {},
   "outputs": [
    {
     "data": {
      "text/html": [
       "<div>\n",
       "<style scoped>\n",
       "    .dataframe tbody tr th:only-of-type {\n",
       "        vertical-align: middle;\n",
       "    }\n",
       "\n",
       "    .dataframe tbody tr th {\n",
       "        vertical-align: top;\n",
       "    }\n",
       "\n",
       "    .dataframe thead th {\n",
       "        text-align: right;\n",
       "    }\n",
       "</style>\n",
       "<table border=\"1\" class=\"dataframe\">\n",
       "  <thead>\n",
       "    <tr style=\"text-align: right;\">\n",
       "      <th></th>\n",
       "      <th>Population</th>\n",
       "      <th>GDP</th>\n",
       "      <th>Surface</th>\n",
       "      <th>HDI</th>\n",
       "      <th>Continent</th>\n",
       "    </tr>\n",
       "  </thead>\n",
       "  <tbody>\n",
       "    <tr>\n",
       "      <th>France</th>\n",
       "      <td>63.951</td>\n",
       "      <td>2833687.0</td>\n",
       "      <td>640679.0</td>\n",
       "      <td>0.888</td>\n",
       "      <td>Europe</td>\n",
       "    </tr>\n",
       "  </tbody>\n",
       "</table>\n",
       "</div>"
      ],
      "text/plain": [
       "        Population        GDP   Surface    HDI Continent\n",
       "France      63.951  2833687.0  640679.0  0.888    Europe"
      ]
     },
     "execution_count": 51,
     "metadata": {},
     "output_type": "execute_result"
    }
   ],
   "source": [
    "df1"
   ]
  },
  {
   "cell_type": "markdown",
   "id": "e0f93909-8108-47c1-a8a0-fad1c08c1e87",
   "metadata": {},
   "source": [
    "CLASSES AND OBJECTS"
   ]
  },
  {
   "cell_type": "code",
   "execution_count": 14,
   "id": "05550bac-8095-4283-af0a-11c67d4aebc8",
   "metadata": {},
   "outputs": [
    {
     "name": "stdin",
     "output_type": "stream",
     "text": [
      "Enter your name :  b\n",
      "Enter your age:  3\n"
     ]
    },
    {
     "name": "stdout",
     "output_type": "stream",
     "text": [
      "B is 3 years old\n"
     ]
    }
   ],
   "source": [
    "class Student():\n",
    "    \n",
    "    def student(self):\n",
    "        \n",
    "        b=input('Enter your name : ')\n",
    "        c=int(input('Enter your age: '))\n",
    "        \n",
    "        print(b.capitalize() + \" is \" + str(c) + \" years old\")\n",
    "        \n",
    "if __name__ == \"__main__\":\n",
    "    info = Student()\n",
    "    info.student()\n",
    "        "
   ]
  },
  {
   "cell_type": "code",
   "execution_count": null,
   "id": "a080d2d5-3b0d-48f5-8163-d443bb843db5",
   "metadata": {},
   "outputs": [],
   "source": [
    "class Student():\n",
    "    \n",
    "    def student(self, age, cgpa):\n",
    "        \n",
    "        self.age = age\n",
    "        self.cgpa = cgpa\n",
    "        \n",
    "        b=input('Enter your name : ')\n",
    "        c=int(input('Enter your age: '))\n",
    "        \n",
    "        print(b.capitalize() + \" is \" + str(c) + \" years old\")\n",
    "        \n",
    "info = Student()\n",
    "info.student()\n",
    "        "
   ]
  },
  {
   "cell_type": "code",
   "execution_count": 6,
   "id": "0a5558cb-9d5e-4df8-84e6-1f6a513e5552",
   "metadata": {},
   "outputs": [
    {
     "name": "stdin",
     "output_type": "stream",
     "text": [
      "Enter your first term :  3\n",
      "Enter the common difference:  1\n",
      "Enter nth number terms in the progression :  11\n"
     ]
    },
    {
     "name": "stdout",
     "output_type": "stream",
     "text": [
      "Sum of arithmetric progression is : \n",
      "88.0\n"
     ]
    }
   ],
   "source": [
    "class arithProg():\n",
    "    \n",
    "    def calcArithProg(self):\n",
    "        \n",
    "        a=float(input('Enter your first term : '))\n",
    "        d=float(input('Enter the common difference: '))\n",
    "        n=int(input('Enter nth number terms in the progression : '))\n",
    "        sumOf = (n/2)*(2*a + (n-1)*d)\n",
    "        print(\"Sum of arithmetric progression is : \")\n",
    "        print(sumOf)\n",
    "        \n",
    "        \n",
    "if __name__ == \"__main__\":\n",
    "    calc = arithProg()\n",
    "    calc.calcArithProg()"
   ]
  },
  {
   "cell_type": "code",
   "execution_count": 4,
   "id": "fb2fa31d-1a2e-4582-a0c3-b0e5879eb845",
   "metadata": {},
   "outputs": [
    {
     "name": "stdin",
     "output_type": "stream",
     "text": [
      "Enter your first term :  1\n",
      "Enter the common difference:  2\n",
      "Enter nth number terms in the progression :  3\n"
     ]
    },
    {
     "name": "stdout",
     "output_type": "stream",
     "text": [
      "Sum of arithmetric progression is : \n",
      "9.0\n"
     ]
    }
   ],
   "source": [
    "def calcArithProg():\n",
    "        \n",
    "        a=float(input('Enter your first term : '))\n",
    "        d=float(input('Enter the common difference: '))\n",
    "        n=int(input('Enter nth number terms in the progression : '))\n",
    "        sumOf = (n/2)*(2*a + (n-1)*d)\n",
    "        print(\"Sum of arithmetric progression is : \")\n",
    "        print(sumOf)\n",
    "\n",
    "calcArithProg()"
   ]
  }
 ],
 "metadata": {
  "kernelspec": {
   "display_name": "Python 3",
   "language": "python",
   "name": "python3"
  },
  "language_info": {
   "codemirror_mode": {
    "name": "ipython",
    "version": 3
   },
   "file_extension": ".py",
   "mimetype": "text/x-python",
   "name": "python",
   "nbconvert_exporter": "python",
   "pygments_lexer": "ipython3",
   "version": "3.8.8"
  }
 },
 "nbformat": 4,
 "nbformat_minor": 5
}
