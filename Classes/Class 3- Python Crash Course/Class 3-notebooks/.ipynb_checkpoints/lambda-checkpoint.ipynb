{
 "cells": [
  {
   "cell_type": "code",
   "execution_count": 18,
   "id": "0c25339f-cb5e-4004-84e3-14527d26e51f",
   "metadata": {},
   "outputs": [
    {
     "data": {
      "text/plain": [
       "[2, 4, 6]"
      ]
     },
     "execution_count": 18,
     "metadata": {},
     "output_type": "execute_result"
    }
   ],
   "source": [
    "list(map(lambda x,y : x+y , [1,2,3],[1,2,3]))"
   ]
  },
  {
   "cell_type": "code",
   "execution_count": 3,
   "id": "28ee493c-d12b-4ed7-8308-9b8f1eb98215",
   "metadata": {},
   "outputs": [
    {
     "data": {
      "text/plain": [
       "['ars', 'barc', 'chel', 'madr']"
      ]
     },
     "execution_count": 3,
     "metadata": {},
     "output_type": "execute_result"
    }
   ],
   "source": [
    "clubs = ['chel','barc','ars','madr']\n",
    "clubs.sort()\n",
    "# clubs.reverse() # or clubs[::-1]\n",
    "clubs"
   ]
  },
  {
   "cell_type": "code",
   "execution_count": 10,
   "id": "41841959-74f6-489f-9ba8-5b481e9283c9",
   "metadata": {},
   "outputs": [
    {
     "data": {
      "text/plain": [
       "['a', 'b', 'c', 'm']"
      ]
     },
     "execution_count": 10,
     "metadata": {},
     "output_type": "execute_result"
    }
   ],
   "source": [
    "list(map(lambda x : x[0] , clubs))"
   ]
  },
  {
   "cell_type": "code",
   "execution_count": 16,
   "id": "bee94a4d-473a-48ef-b1ec-9edb7421d37d",
   "metadata": {},
   "outputs": [
    {
     "data": {
      "text/plain": [
       "5"
      ]
     },
     "execution_count": 16,
     "metadata": {},
     "output_type": "execute_result"
    }
   ],
   "source": [
    "L = lambda x : x+2\n",
    "L(3)"
   ]
  },
  {
   "cell_type": "code",
   "execution_count": 11,
   "id": "0e2b9aa4-a699-4532-a75d-1a738716ee6e",
   "metadata": {},
   "outputs": [
    {
     "data": {
      "text/plain": [
       "33"
      ]
     },
     "execution_count": 11,
     "metadata": {},
     "output_type": "execute_result"
    }
   ],
   "source": [
    "L = lambda z : z*11\n",
    "L(3)"
   ]
  }
 ],
 "metadata": {
  "kernelspec": {
   "display_name": "Python 3",
   "language": "python",
   "name": "python3"
  },
  "language_info": {
   "codemirror_mode": {
    "name": "ipython",
    "version": 3
   },
   "file_extension": ".py",
   "mimetype": "text/x-python",
   "name": "python",
   "nbconvert_exporter": "python",
   "pygments_lexer": "ipython3",
   "version": "3.8.8"
  }
 },
 "nbformat": 4,
 "nbformat_minor": 5
}
