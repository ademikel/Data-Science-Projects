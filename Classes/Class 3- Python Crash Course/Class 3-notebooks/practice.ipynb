{
 "cells": [
  {
   "cell_type": "code",
   "execution_count": 1,
   "id": "da4d782b-845f-48e8-adf1-30677b22a1a7",
   "metadata": {},
   "outputs": [],
   "source": [
    "import numpy as np"
   ]
  },
  {
   "cell_type": "code",
   "execution_count": 2,
   "id": "87b0d118-1dd7-4721-9e9b-63f98c6b9625",
   "metadata": {},
   "outputs": [
    {
     "data": {
      "text/plain": [
       "array([1, 4, 3])"
      ]
     },
     "execution_count": 2,
     "metadata": {},
     "output_type": "execute_result"
    }
   ],
   "source": [
    "arr = np.array([[1,2,7],[3,4,8],[5,6,9]])\n",
    "# arr.shape\n",
    "# arr.reshape(2,3)\n",
    "arr1 = arr[[0,1,1],[0,1,0]]\n",
    "arr1\n",
    "# the first [0,1,1] gets the value of the arr index i.e [1,2,7],[3,4,8], and [5,6,9],\n",
    "# but the second [0,1,0] gets the indexed value of the returned value of the former simultenously.\n",
    "# That is, 0 of 0 is 1, 1 of 1 is 4, and 0 of 1 is 3."
   ]
  },
  {
   "cell_type": "code",
   "execution_count": 3,
   "id": "05a1b1bb-fd8b-450f-a405-290535fdc489",
   "metadata": {},
   "outputs": [
    {
     "data": {
      "text/plain": [
       "array([1. , 0.6, 0.7, 0.8, 0.9])"
      ]
     },
     "execution_count": 3,
     "metadata": {},
     "output_type": "execute_result"
    }
   ],
   "source": [
    "b = np.array([1, 2, 3, 4, 5])\n",
    "c = np.array([0.6, 0.7, 0.8, 0.9])\n",
    "\n",
    "b = b.astype(float)\n",
    "b[1:] = c  # the value of c is assigned to from the index of 1 of b\n",
    "b"
   ]
  },
  {
   "cell_type": "code",
   "execution_count": null,
   "id": "c8f05dee-9e64-49f1-9d20-3c8b2284999b",
   "metadata": {},
   "outputs": [],
   "source": []
  }
 ],
 "metadata": {
  "kernelspec": {
   "display_name": "Python 3",
   "language": "python",
   "name": "python3"
  },
  "language_info": {
   "codemirror_mode": {
    "name": "ipython",
    "version": 3
   },
   "file_extension": ".py",
   "mimetype": "text/x-python",
   "name": "python",
   "nbconvert_exporter": "python",
   "pygments_lexer": "ipython3",
   "version": "3.8.8"
  }
 },
 "nbformat": 4,
 "nbformat_minor": 5
}
