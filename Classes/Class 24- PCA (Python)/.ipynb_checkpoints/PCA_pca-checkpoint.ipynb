{
 "cells": [
  {
   "cell_type": "markdown",
   "metadata": {},
   "source": [
    "<img src=\"logo.jpg\" />\n",
    "\n",
    "## [Prof. Pedram Jahangiry](https://huntsman.usu.edu/directory/jahangiry-pedram) \n",
    "[GitHub account](https://github.com/PJalgotrader) \n",
    "\n",
    "[YouTube Channel](https://www.youtube.com/channel/UCNDElcuuyX-2pSatVBDpJJQ/playlists) "
   ]
  },
  {
   "cell_type": "markdown",
   "metadata": {},
   "source": [
    "# Unsupervised Learning: Principle Component Analysis (PCA) \n",
    "\n",
    "## Using pca package\n",
    "pca is a python package to perform Principal Component Analysis and to create insightful plots. The core of PCA is build on sklearn functionality to find maximum compatibility when combining with other packages. \n",
    "\n",
    "for **installation**:\n",
    "pip install pca"
   ]
  },
  {
   "cell_type": "code",
   "execution_count": 1,
   "metadata": {},
   "outputs": [],
   "source": [
    "import numpy as np\n",
    "import pandas as pd\n",
    "import matplotlib.pyplot as plt\n",
    "import seaborn as sns\n",
    "sns.set()  #if you want to use seaborn themes with matplotlib functions\n",
    "import warnings\n",
    "warnings.filterwarnings('ignore')"
   ]
  },
  {
   "cell_type": "code",
   "execution_count": 2,
   "metadata": {},
   "outputs": [],
   "source": [
    "rand_state= 1000"
   ]
  },
  {
   "cell_type": "code",
   "execution_count": 3,
   "metadata": {},
   "outputs": [],
   "source": [
    "from pca import pca"
   ]
  },
  {
   "cell_type": "code",
   "execution_count": 4,
   "metadata": {},
   "outputs": [
    {
     "data": {
      "text/plain": [
       "<pca.pca.pca at 0x199cd19ae48>"
      ]
     },
     "execution_count": 4,
     "metadata": {},
     "output_type": "execute_result"
    }
   ],
   "source": [
    "pca()"
   ]
  },
  {
   "cell_type": "code",
   "execution_count": 5,
   "metadata": {},
   "outputs": [
    {
     "data": {
      "text/html": [
       "<div>\n",
       "<style scoped>\n",
       "    .dataframe tbody tr th:only-of-type {\n",
       "        vertical-align: middle;\n",
       "    }\n",
       "\n",
       "    .dataframe tbody tr th {\n",
       "        vertical-align: top;\n",
       "    }\n",
       "\n",
       "    .dataframe thead th {\n",
       "        text-align: right;\n",
       "    }\n",
       "</style>\n",
       "<table border=\"1\" class=\"dataframe\">\n",
       "  <thead>\n",
       "    <tr style=\"text-align: right;\">\n",
       "      <th></th>\n",
       "      <th>state</th>\n",
       "      <th>Murder</th>\n",
       "      <th>Assault</th>\n",
       "      <th>UrbanPop</th>\n",
       "      <th>Rape</th>\n",
       "    </tr>\n",
       "  </thead>\n",
       "  <tbody>\n",
       "    <tr>\n",
       "      <th>0</th>\n",
       "      <td>Alabama</td>\n",
       "      <td>13.2</td>\n",
       "      <td>236</td>\n",
       "      <td>58</td>\n",
       "      <td>21.2</td>\n",
       "    </tr>\n",
       "    <tr>\n",
       "      <th>1</th>\n",
       "      <td>Alaska</td>\n",
       "      <td>10.0</td>\n",
       "      <td>263</td>\n",
       "      <td>48</td>\n",
       "      <td>44.5</td>\n",
       "    </tr>\n",
       "    <tr>\n",
       "      <th>2</th>\n",
       "      <td>Arizona</td>\n",
       "      <td>8.1</td>\n",
       "      <td>294</td>\n",
       "      <td>80</td>\n",
       "      <td>31.0</td>\n",
       "    </tr>\n",
       "    <tr>\n",
       "      <th>3</th>\n",
       "      <td>Arkansas</td>\n",
       "      <td>8.8</td>\n",
       "      <td>190</td>\n",
       "      <td>50</td>\n",
       "      <td>19.5</td>\n",
       "    </tr>\n",
       "    <tr>\n",
       "      <th>4</th>\n",
       "      <td>California</td>\n",
       "      <td>9.0</td>\n",
       "      <td>276</td>\n",
       "      <td>91</td>\n",
       "      <td>40.6</td>\n",
       "    </tr>\n",
       "  </tbody>\n",
       "</table>\n",
       "</div>"
      ],
      "text/plain": [
       "        state  Murder  Assault  UrbanPop  Rape\n",
       "0     Alabama    13.2      236        58  21.2\n",
       "1      Alaska    10.0      263        48  44.5\n",
       "2     Arizona     8.1      294        80  31.0\n",
       "3    Arkansas     8.8      190        50  19.5\n",
       "4  California     9.0      276        91  40.6"
      ]
     },
     "execution_count": 5,
     "metadata": {},
     "output_type": "execute_result"
    }
   ],
   "source": [
    "usarrest = pd.read_csv('USArrests.csv')\n",
    "usarrest.head()"
   ]
  },
  {
   "cell_type": "code",
   "execution_count": 6,
   "metadata": {},
   "outputs": [],
   "source": [
    "X= usarrest.drop('state', axis=1) # scaling the features will be automatically done. \n",
    "states = usarrest.state"
   ]
  },
  {
   "cell_type": "code",
   "execution_count": 7,
   "metadata": {},
   "outputs": [],
   "source": [
    "model=pca(n_components=0.85, normalize=True) "
   ]
  },
  {
   "cell_type": "code",
   "execution_count": 8,
   "metadata": {},
   "outputs": [
    {
     "name": "stdout",
     "output_type": "stream",
     "text": [
      "[pca] >Processing dataframe..\n",
      "[pca] >Normalizing input data per feature (zero mean and unit variance)..\n",
      "[pca] >The PCA reduction is performed to capture [85.0%] explained variance using the [4] columns of the input data.\n",
      "[pca] >Fitting using PCA..\n",
      "[pca] >Computing loadings and PCs..\n",
      "[pca] >Computing explained variance..\n",
      "[pca] >Number of components is [2] that covers the [85.00%] explained variance.\n",
      "[pca] >Outlier detection using Hotelling T2 test with alpha=[0.05] and n_components=[4]\n",
      "[pca] >Outlier detection using SPE/DmodX with n_std=[2]\n"
     ]
    }
   ],
   "source": [
    "results = model.fit_transform(X)"
   ]
  },
  {
   "cell_type": "code",
   "execution_count": 9,
   "metadata": {},
   "outputs": [],
   "source": [
    "#results"
   ]
  },
  {
   "cell_type": "code",
   "execution_count": 10,
   "metadata": {},
   "outputs": [
    {
     "data": {
      "text/html": [
       "<div>\n",
       "<style scoped>\n",
       "    .dataframe tbody tr th:only-of-type {\n",
       "        vertical-align: middle;\n",
       "    }\n",
       "\n",
       "    .dataframe tbody tr th {\n",
       "        vertical-align: top;\n",
       "    }\n",
       "\n",
       "    .dataframe thead th {\n",
       "        text-align: right;\n",
       "    }\n",
       "</style>\n",
       "<table border=\"1\" class=\"dataframe\">\n",
       "  <thead>\n",
       "    <tr style=\"text-align: right;\">\n",
       "      <th></th>\n",
       "      <th>Murder</th>\n",
       "      <th>Assault</th>\n",
       "      <th>UrbanPop</th>\n",
       "      <th>Rape</th>\n",
       "    </tr>\n",
       "  </thead>\n",
       "  <tbody>\n",
       "    <tr>\n",
       "      <th>PC1</th>\n",
       "      <td>0.535899</td>\n",
       "      <td>0.583184</td>\n",
       "      <td>0.278191</td>\n",
       "      <td>0.543432</td>\n",
       "    </tr>\n",
       "    <tr>\n",
       "      <th>PC2</th>\n",
       "      <td>0.418181</td>\n",
       "      <td>0.187986</td>\n",
       "      <td>-0.872806</td>\n",
       "      <td>-0.167319</td>\n",
       "    </tr>\n",
       "    <tr>\n",
       "      <th>PC3</th>\n",
       "      <td>-0.341233</td>\n",
       "      <td>-0.268148</td>\n",
       "      <td>-0.378016</td>\n",
       "      <td>0.817778</td>\n",
       "    </tr>\n",
       "    <tr>\n",
       "      <th>PC4</th>\n",
       "      <td>0.649228</td>\n",
       "      <td>-0.743407</td>\n",
       "      <td>0.133878</td>\n",
       "      <td>0.089024</td>\n",
       "    </tr>\n",
       "  </tbody>\n",
       "</table>\n",
       "</div>"
      ],
      "text/plain": [
       "       Murder   Assault  UrbanPop      Rape\n",
       "PC1  0.535899  0.583184  0.278191  0.543432\n",
       "PC2  0.418181  0.187986 -0.872806 -0.167319\n",
       "PC3 -0.341233 -0.268148 -0.378016  0.817778\n",
       "PC4  0.649228 -0.743407  0.133878  0.089024"
      ]
     },
     "execution_count": 10,
     "metadata": {},
     "output_type": "execute_result"
    }
   ],
   "source": [
    "loadings=results['loadings']\n",
    "loadings"
   ]
  },
  {
   "cell_type": "code",
   "execution_count": 11,
   "metadata": {},
   "outputs": [
    {
     "data": {
      "text/html": [
       "<div>\n",
       "<style scoped>\n",
       "    .dataframe tbody tr th:only-of-type {\n",
       "        vertical-align: middle;\n",
       "    }\n",
       "\n",
       "    .dataframe tbody tr th {\n",
       "        vertical-align: top;\n",
       "    }\n",
       "\n",
       "    .dataframe thead th {\n",
       "        text-align: right;\n",
       "    }\n",
       "</style>\n",
       "<table border=\"1\" class=\"dataframe\">\n",
       "  <thead>\n",
       "    <tr style=\"text-align: right;\">\n",
       "      <th></th>\n",
       "      <th>PC1</th>\n",
       "      <th>PC2</th>\n",
       "      <th>lables</th>\n",
       "    </tr>\n",
       "  </thead>\n",
       "  <tbody>\n",
       "    <tr>\n",
       "      <th>0</th>\n",
       "      <td>0.985566</td>\n",
       "      <td>1.133392</td>\n",
       "      <td>Alabama</td>\n",
       "    </tr>\n",
       "    <tr>\n",
       "      <th>1</th>\n",
       "      <td>1.950138</td>\n",
       "      <td>1.073213</td>\n",
       "      <td>Alaska</td>\n",
       "    </tr>\n",
       "    <tr>\n",
       "      <th>2</th>\n",
       "      <td>1.763164</td>\n",
       "      <td>-0.745957</td>\n",
       "      <td>Arizona</td>\n",
       "    </tr>\n",
       "    <tr>\n",
       "      <th>3</th>\n",
       "      <td>-0.141420</td>\n",
       "      <td>1.119797</td>\n",
       "      <td>Arkansas</td>\n",
       "    </tr>\n",
       "    <tr>\n",
       "      <th>4</th>\n",
       "      <td>2.523980</td>\n",
       "      <td>-1.542934</td>\n",
       "      <td>California</td>\n",
       "    </tr>\n",
       "  </tbody>\n",
       "</table>\n",
       "</div>"
      ],
      "text/plain": [
       "        PC1       PC2      lables\n",
       "0  0.985566  1.133392     Alabama\n",
       "1  1.950138  1.073213      Alaska\n",
       "2  1.763164 -0.745957     Arizona\n",
       "3 -0.141420  1.119797    Arkansas\n",
       "4  2.523980 -1.542934  California"
      ]
     },
     "execution_count": 11,
     "metadata": {},
     "output_type": "execute_result"
    }
   ],
   "source": [
    "scores=results['PC']\n",
    "scores['lables']=states\n",
    "scores.head()"
   ]
  },
  {
   "cell_type": "markdown",
   "metadata": {},
   "source": [
    "---\n",
    "## Scree plot"
   ]
  },
  {
   "cell_type": "code",
   "execution_count": 12,
   "metadata": {},
   "outputs": [
    {
     "data": {
      "image/png": "[encoded data removed]",
      "text/plain": [
       "<Figure size 720x576 with 1 Axes>"
      ]
     },
     "metadata": {
      "needs_background": "light"
     },
     "output_type": "display_data"
    },
    {
     "data": {
      "text/plain": [
       "<Figure size 432x288 with 0 Axes>"
      ]
     },
     "metadata": {},
     "output_type": "display_data"
    }
   ],
   "source": [
    "model.plot(figsize=(10,8))\n",
    "plt.show()"
   ]
  },
  {
   "cell_type": "markdown",
   "metadata": {},
   "source": [
    "---\n",
    "## Biplot\n",
    "\n",
    "Biplot displays both the PC scores and PC loadings. We will use the **pca.biplot_** method from the **pca** library. "
   ]
  },
  {
   "cell_type": "code",
   "execution_count": 13,
   "metadata": {},
   "outputs": [
    {
     "data": {
      "image/png": "[encoded data removed]",
      "text/plain": [
       "<Figure size 1152x864 with 1 Axes>"
      ]
     },
     "metadata": {
      "needs_background": "light"
     },
     "output_type": "display_data"
    }
   ],
   "source": [
    "model.biplot(n_feat=4,  legend=False, figsize=(16,12), y=states , label=True)\n",
    "plt.show()"
   ]
  },
  {
   "cell_type": "markdown",
   "metadata": {},
   "source": [
    "--- \n",
    "## PCA application: Wine dataset\n",
    "* The dataset is called wine and it is a famous one in Machine Learning community. \n",
    "* More on wine data set: http://archive.ics.uci.edu/ml/datasets/wine"
   ]
  },
  {
   "cell_type": "code",
   "execution_count": 14,
   "metadata": {},
   "outputs": [],
   "source": [
    "df = pd.read_csv('Wine.csv')"
   ]
  },
  {
   "cell_type": "code",
   "execution_count": 15,
   "metadata": {},
   "outputs": [
    {
     "data": {
      "text/html": [
       "<div>\n",
       "<style scoped>\n",
       "    .dataframe tbody tr th:only-of-type {\n",
       "        vertical-align: middle;\n",
       "    }\n",
       "\n",
       "    .dataframe tbody tr th {\n",
       "        vertical-align: top;\n",
       "    }\n",
       "\n",
       "    .dataframe thead th {\n",
       "        text-align: right;\n",
       "    }\n",
       "</style>\n",
       "<table border=\"1\" class=\"dataframe\">\n",
       "  <thead>\n",
       "    <tr style=\"text-align: right;\">\n",
       "      <th></th>\n",
       "      <th>Alcohol</th>\n",
       "      <th>Malic_Acid</th>\n",
       "      <th>Ash</th>\n",
       "      <th>Ash_Alcanity</th>\n",
       "      <th>Magnesium</th>\n",
       "      <th>Total_Phenols</th>\n",
       "      <th>Flavanoids</th>\n",
       "      <th>Nonflavanoid_Phenols</th>\n",
       "      <th>Proanthocyanins</th>\n",
       "      <th>Color_Intensity</th>\n",
       "      <th>Hue</th>\n",
       "      <th>OD280</th>\n",
       "      <th>Proline</th>\n",
       "      <th>Customer_Segment</th>\n",
       "    </tr>\n",
       "  </thead>\n",
       "  <tbody>\n",
       "    <tr>\n",
       "      <th>0</th>\n",
       "      <td>14.23</td>\n",
       "      <td>1.71</td>\n",
       "      <td>2.43</td>\n",
       "      <td>15.6</td>\n",
       "      <td>127</td>\n",
       "      <td>2.80</td>\n",
       "      <td>3.06</td>\n",
       "      <td>0.28</td>\n",
       "      <td>2.29</td>\n",
       "      <td>5.64</td>\n",
       "      <td>1.04</td>\n",
       "      <td>3.92</td>\n",
       "      <td>1065</td>\n",
       "      <td>1</td>\n",
       "    </tr>\n",
       "    <tr>\n",
       "      <th>1</th>\n",
       "      <td>13.20</td>\n",
       "      <td>1.78</td>\n",
       "      <td>2.14</td>\n",
       "      <td>11.2</td>\n",
       "      <td>100</td>\n",
       "      <td>2.65</td>\n",
       "      <td>2.76</td>\n",
       "      <td>0.26</td>\n",
       "      <td>1.28</td>\n",
       "      <td>4.38</td>\n",
       "      <td>1.05</td>\n",
       "      <td>3.40</td>\n",
       "      <td>1050</td>\n",
       "      <td>1</td>\n",
       "    </tr>\n",
       "    <tr>\n",
       "      <th>2</th>\n",
       "      <td>13.16</td>\n",
       "      <td>2.36</td>\n",
       "      <td>2.67</td>\n",
       "      <td>18.6</td>\n",
       "      <td>101</td>\n",
       "      <td>2.80</td>\n",
       "      <td>3.24</td>\n",
       "      <td>0.30</td>\n",
       "      <td>2.81</td>\n",
       "      <td>5.68</td>\n",
       "      <td>1.03</td>\n",
       "      <td>3.17</td>\n",
       "      <td>1185</td>\n",
       "      <td>1</td>\n",
       "    </tr>\n",
       "    <tr>\n",
       "      <th>3</th>\n",
       "      <td>14.37</td>\n",
       "      <td>1.95</td>\n",
       "      <td>2.50</td>\n",
       "      <td>16.8</td>\n",
       "      <td>113</td>\n",
       "      <td>3.85</td>\n",
       "      <td>3.49</td>\n",
       "      <td>0.24</td>\n",
       "      <td>2.18</td>\n",
       "      <td>7.80</td>\n",
       "      <td>0.86</td>\n",
       "      <td>3.45</td>\n",
       "      <td>1480</td>\n",
       "      <td>1</td>\n",
       "    </tr>\n",
       "    <tr>\n",
       "      <th>4</th>\n",
       "      <td>13.24</td>\n",
       "      <td>2.59</td>\n",
       "      <td>2.87</td>\n",
       "      <td>21.0</td>\n",
       "      <td>118</td>\n",
       "      <td>2.80</td>\n",
       "      <td>2.69</td>\n",
       "      <td>0.39</td>\n",
       "      <td>1.82</td>\n",
       "      <td>4.32</td>\n",
       "      <td>1.04</td>\n",
       "      <td>2.93</td>\n",
       "      <td>735</td>\n",
       "      <td>1</td>\n",
       "    </tr>\n",
       "  </tbody>\n",
       "</table>\n",
       "</div>"
      ],
      "text/plain": [
       "   Alcohol  Malic_Acid   Ash  Ash_Alcanity  Magnesium  Total_Phenols  \\\n",
       "0    14.23        1.71  2.43          15.6        127           2.80   \n",
       "1    13.20        1.78  2.14          11.2        100           2.65   \n",
       "2    13.16        2.36  2.67          18.6        101           2.80   \n",
       "3    14.37        1.95  2.50          16.8        113           3.85   \n",
       "4    13.24        2.59  2.87          21.0        118           2.80   \n",
       "\n",
       "   Flavanoids  Nonflavanoid_Phenols  Proanthocyanins  Color_Intensity   Hue  \\\n",
       "0        3.06                  0.28             2.29             5.64  1.04   \n",
       "1        2.76                  0.26             1.28             4.38  1.05   \n",
       "2        3.24                  0.30             2.81             5.68  1.03   \n",
       "3        3.49                  0.24             2.18             7.80  0.86   \n",
       "4        2.69                  0.39             1.82             4.32  1.04   \n",
       "\n",
       "   OD280  Proline  Customer_Segment  \n",
       "0   3.92     1065                 1  \n",
       "1   3.40     1050                 1  \n",
       "2   3.17     1185                 1  \n",
       "3   3.45     1480                 1  \n",
       "4   2.93      735                 1  "
      ]
     },
     "execution_count": 15,
     "metadata": {},
     "output_type": "execute_result"
    }
   ],
   "source": [
    "df.head()"
   ]
  },
  {
   "cell_type": "code",
   "execution_count": 16,
   "metadata": {},
   "outputs": [
    {
     "data": {
      "text/plain": [
       "Index(['Alcohol', 'Malic_Acid', 'Ash', 'Ash_Alcanity', 'Magnesium',\n",
       "       'Total_Phenols', 'Flavanoids', 'Nonflavanoid_Phenols',\n",
       "       'Proanthocyanins', 'Color_Intensity', 'Hue', 'OD280', 'Proline',\n",
       "       'Customer_Segment'],\n",
       "      dtype='object')"
      ]
     },
     "execution_count": 16,
     "metadata": {},
     "output_type": "execute_result"
    }
   ],
   "source": [
    "df.columns"
   ]
  },
  {
   "cell_type": "code",
   "execution_count": 17,
   "metadata": {},
   "outputs": [
    {
     "data": {
      "text/plain": [
       "(178, 14)"
      ]
     },
     "execution_count": 17,
     "metadata": {},
     "output_type": "execute_result"
    }
   ],
   "source": [
    "df.shape"
   ]
  },
  {
   "cell_type": "code",
   "execution_count": 18,
   "metadata": {},
   "outputs": [],
   "source": [
    "X=df.drop('Customer_Segment', axis=1)\n",
    "labels = df.Customer_Segment"
   ]
  },
  {
   "cell_type": "code",
   "execution_count": 19,
   "metadata": {},
   "outputs": [],
   "source": [
    "model=pca(n_components=13, normalize=True) "
   ]
  },
  {
   "cell_type": "code",
   "execution_count": 20,
   "metadata": {},
   "outputs": [
    {
     "name": "stdout",
     "output_type": "stream",
     "text": [
      "[pca] >Processing dataframe..\n",
      "[pca] >Normalizing input data per feature (zero mean and unit variance)..\n",
      "[pca] >The PCA reduction is performed on the [13] columns of the input dataframe.\n",
      "[pca] >Fitting using PCA..\n",
      "[pca] >Computing loadings and PCs..\n",
      "[pca] >Computing explained variance..\n",
      "[pca] >Outlier detection using Hotelling T2 test with alpha=[0.05] and n_components=[5]\n",
      "[pca] >Outlier detection using SPE/DmodX with n_std=[2]\n"
     ]
    }
   ],
   "source": [
    "results = model.fit_transform(X)"
   ]
  },
  {
   "cell_type": "code",
   "execution_count": 21,
   "metadata": {},
   "outputs": [],
   "source": [
    "# results"
   ]
  },
  {
   "cell_type": "code",
   "execution_count": 22,
   "metadata": {},
   "outputs": [
    {
     "data": {
      "text/html": [
       "<div>\n",
       "<style scoped>\n",
       "    .dataframe tbody tr th:only-of-type {\n",
       "        vertical-align: middle;\n",
       "    }\n",
       "\n",
       "    .dataframe tbody tr th {\n",
       "        vertical-align: top;\n",
       "    }\n",
       "\n",
       "    .dataframe thead th {\n",
       "        text-align: right;\n",
       "    }\n",
       "</style>\n",
       "<table border=\"1\" class=\"dataframe\">\n",
       "  <thead>\n",
       "    <tr style=\"text-align: right;\">\n",
       "      <th></th>\n",
       "      <th>Alcohol</th>\n",
       "      <th>Malic_Acid</th>\n",
       "      <th>Ash</th>\n",
       "      <th>Ash_Alcanity</th>\n",
       "      <th>Magnesium</th>\n",
       "      <th>Total_Phenols</th>\n",
       "      <th>Flavanoids</th>\n",
       "      <th>Nonflavanoid_Phenols</th>\n",
       "      <th>Proanthocyanins</th>\n",
       "      <th>Color_Intensity</th>\n",
       "      <th>Hue</th>\n",
       "      <th>OD280</th>\n",
       "      <th>Proline</th>\n",
       "    </tr>\n",
       "  </thead>\n",
       "  <tbody>\n",
       "    <tr>\n",
       "      <th>PC1</th>\n",
       "      <td>0.144329</td>\n",
       "      <td>-0.245188</td>\n",
       "      <td>-0.002051</td>\n",
       "      <td>-0.239320</td>\n",
       "      <td>0.141992</td>\n",
       "      <td>0.394661</td>\n",
       "      <td>0.422934</td>\n",
       "      <td>-0.298533</td>\n",
       "      <td>0.313429</td>\n",
       "      <td>-0.088617</td>\n",
       "      <td>0.296715</td>\n",
       "      <td>0.376167</td>\n",
       "      <td>0.286752</td>\n",
       "    </tr>\n",
       "    <tr>\n",
       "      <th>PC2</th>\n",
       "      <td>-0.483652</td>\n",
       "      <td>-0.224931</td>\n",
       "      <td>-0.316069</td>\n",
       "      <td>0.010591</td>\n",
       "      <td>-0.299634</td>\n",
       "      <td>-0.065040</td>\n",
       "      <td>0.003360</td>\n",
       "      <td>-0.028779</td>\n",
       "      <td>-0.039302</td>\n",
       "      <td>-0.529996</td>\n",
       "      <td>0.279235</td>\n",
       "      <td>0.164496</td>\n",
       "      <td>-0.364903</td>\n",
       "    </tr>\n",
       "    <tr>\n",
       "      <th>PC3</th>\n",
       "      <td>-0.207383</td>\n",
       "      <td>0.089013</td>\n",
       "      <td>0.626224</td>\n",
       "      <td>0.612080</td>\n",
       "      <td>0.130757</td>\n",
       "      <td>0.146179</td>\n",
       "      <td>0.150682</td>\n",
       "      <td>0.170368</td>\n",
       "      <td>0.149454</td>\n",
       "      <td>-0.137306</td>\n",
       "      <td>0.085222</td>\n",
       "      <td>0.166005</td>\n",
       "      <td>-0.126746</td>\n",
       "    </tr>\n",
       "    <tr>\n",
       "      <th>PC4</th>\n",
       "      <td>-0.017856</td>\n",
       "      <td>0.536890</td>\n",
       "      <td>-0.214176</td>\n",
       "      <td>0.060859</td>\n",
       "      <td>-0.351797</td>\n",
       "      <td>0.198068</td>\n",
       "      <td>0.152295</td>\n",
       "      <td>-0.203301</td>\n",
       "      <td>0.399057</td>\n",
       "      <td>0.065926</td>\n",
       "      <td>-0.427771</td>\n",
       "      <td>0.184121</td>\n",
       "      <td>-0.232071</td>\n",
       "    </tr>\n",
       "    <tr>\n",
       "      <th>PC5</th>\n",
       "      <td>-0.265664</td>\n",
       "      <td>0.035214</td>\n",
       "      <td>-0.143025</td>\n",
       "      <td>0.066103</td>\n",
       "      <td>0.727049</td>\n",
       "      <td>-0.149318</td>\n",
       "      <td>-0.109026</td>\n",
       "      <td>-0.500703</td>\n",
       "      <td>0.136860</td>\n",
       "      <td>-0.076437</td>\n",
       "      <td>-0.173615</td>\n",
       "      <td>-0.101161</td>\n",
       "      <td>-0.157869</td>\n",
       "    </tr>\n",
       "    <tr>\n",
       "      <th>PC6</th>\n",
       "      <td>-0.213539</td>\n",
       "      <td>-0.536814</td>\n",
       "      <td>-0.154475</td>\n",
       "      <td>0.100825</td>\n",
       "      <td>-0.038144</td>\n",
       "      <td>0.084122</td>\n",
       "      <td>0.018920</td>\n",
       "      <td>0.258594</td>\n",
       "      <td>0.533795</td>\n",
       "      <td>0.418644</td>\n",
       "      <td>-0.105983</td>\n",
       "      <td>-0.265851</td>\n",
       "      <td>-0.119726</td>\n",
       "    </tr>\n",
       "    <tr>\n",
       "      <th>PC7</th>\n",
       "      <td>-0.056396</td>\n",
       "      <td>0.420524</td>\n",
       "      <td>-0.149171</td>\n",
       "      <td>-0.286969</td>\n",
       "      <td>0.322883</td>\n",
       "      <td>-0.027925</td>\n",
       "      <td>-0.060685</td>\n",
       "      <td>0.595447</td>\n",
       "      <td>0.372139</td>\n",
       "      <td>-0.227712</td>\n",
       "      <td>0.232076</td>\n",
       "      <td>-0.044764</td>\n",
       "      <td>0.076805</td>\n",
       "    </tr>\n",
       "    <tr>\n",
       "      <th>PC8</th>\n",
       "      <td>-0.396139</td>\n",
       "      <td>-0.065827</td>\n",
       "      <td>0.170260</td>\n",
       "      <td>-0.427970</td>\n",
       "      <td>0.156361</td>\n",
       "      <td>0.405934</td>\n",
       "      <td>0.187245</td>\n",
       "      <td>0.233285</td>\n",
       "      <td>-0.368227</td>\n",
       "      <td>0.033797</td>\n",
       "      <td>-0.436624</td>\n",
       "      <td>0.078108</td>\n",
       "      <td>-0.120023</td>\n",
       "    </tr>\n",
       "    <tr>\n",
       "      <th>PC9</th>\n",
       "      <td>0.508619</td>\n",
       "      <td>-0.075283</td>\n",
       "      <td>-0.307694</td>\n",
       "      <td>0.200449</td>\n",
       "      <td>0.271403</td>\n",
       "      <td>0.286035</td>\n",
       "      <td>0.049578</td>\n",
       "      <td>0.195501</td>\n",
       "      <td>-0.209145</td>\n",
       "      <td>0.056218</td>\n",
       "      <td>0.085828</td>\n",
       "      <td>0.137227</td>\n",
       "      <td>-0.575786</td>\n",
       "    </tr>\n",
       "    <tr>\n",
       "      <th>PC10</th>\n",
       "      <td>0.211605</td>\n",
       "      <td>-0.309080</td>\n",
       "      <td>-0.027125</td>\n",
       "      <td>0.052799</td>\n",
       "      <td>0.067870</td>\n",
       "      <td>-0.320131</td>\n",
       "      <td>-0.163151</td>\n",
       "      <td>0.215535</td>\n",
       "      <td>0.134184</td>\n",
       "      <td>-0.290775</td>\n",
       "      <td>-0.522399</td>\n",
       "      <td>0.523706</td>\n",
       "      <td>0.162116</td>\n",
       "    </tr>\n",
       "    <tr>\n",
       "      <th>PC11</th>\n",
       "      <td>-0.225917</td>\n",
       "      <td>0.076486</td>\n",
       "      <td>-0.498691</td>\n",
       "      <td>0.479314</td>\n",
       "      <td>0.071289</td>\n",
       "      <td>0.304341</td>\n",
       "      <td>-0.025694</td>\n",
       "      <td>0.116896</td>\n",
       "      <td>-0.237363</td>\n",
       "      <td>0.031839</td>\n",
       "      <td>-0.048212</td>\n",
       "      <td>0.046423</td>\n",
       "      <td>0.539270</td>\n",
       "    </tr>\n",
       "    <tr>\n",
       "      <th>PC12</th>\n",
       "      <td>-0.266286</td>\n",
       "      <td>0.121696</td>\n",
       "      <td>-0.049622</td>\n",
       "      <td>-0.055743</td>\n",
       "      <td>0.062220</td>\n",
       "      <td>-0.303882</td>\n",
       "      <td>-0.042899</td>\n",
       "      <td>0.042352</td>\n",
       "      <td>-0.095553</td>\n",
       "      <td>0.604222</td>\n",
       "      <td>0.259214</td>\n",
       "      <td>0.600959</td>\n",
       "      <td>-0.079402</td>\n",
       "    </tr>\n",
       "    <tr>\n",
       "      <th>PC13</th>\n",
       "      <td>0.014970</td>\n",
       "      <td>0.025964</td>\n",
       "      <td>-0.141218</td>\n",
       "      <td>0.091683</td>\n",
       "      <td>0.056774</td>\n",
       "      <td>-0.463908</td>\n",
       "      <td>0.832257</td>\n",
       "      <td>0.114040</td>\n",
       "      <td>-0.116917</td>\n",
       "      <td>-0.011993</td>\n",
       "      <td>-0.089889</td>\n",
       "      <td>-0.156718</td>\n",
       "      <td>0.014447</td>\n",
       "    </tr>\n",
       "  </tbody>\n",
       "</table>\n",
       "</div>"
      ],
      "text/plain": [
       "       Alcohol  Malic_Acid       Ash  Ash_Alcanity  Magnesium  Total_Phenols  \\\n",
       "PC1   0.144329   -0.245188 -0.002051     -0.239320   0.141992       0.394661   \n",
       "PC2  -0.483652   -0.224931 -0.316069      0.010591  -0.299634      -0.065040   \n",
       "PC3  -0.207383    0.089013  0.626224      0.612080   0.130757       0.146179   \n",
       "PC4  -0.017856    0.536890 -0.214176      0.060859  -0.351797       0.198068   \n",
       "PC5  -0.265664    0.035214 -0.143025      0.066103   0.727049      -0.149318   \n",
       "PC6  -0.213539   -0.536814 -0.154475      0.100825  -0.038144       0.084122   \n",
       "PC7  -0.056396    0.420524 -0.149171     -0.286969   0.322883      -0.027925   \n",
       "PC8  -0.396139   -0.065827  0.170260     -0.427970   0.156361       0.405934   \n",
       "PC9   0.508619   -0.075283 -0.307694      0.200449   0.271403       0.286035   \n",
       "PC10  0.211605   -0.309080 -0.027125      0.052799   0.067870      -0.320131   \n",
       "PC11 -0.225917    0.076486 -0.498691      0.479314   0.071289       0.304341   \n",
       "PC12 -0.266286    0.121696 -0.049622     -0.055743   0.062220      -0.303882   \n",
       "PC13  0.014970    0.025964 -0.141218      0.091683   0.056774      -0.463908   \n",
       "\n",
       "      Flavanoids  Nonflavanoid_Phenols  Proanthocyanins  Color_Intensity  \\\n",
       "PC1     0.422934             -0.298533         0.313429        -0.088617   \n",
       "PC2     0.003360             -0.028779        -0.039302        -0.529996   \n",
       "PC3     0.150682              0.170368         0.149454        -0.137306   \n",
       "PC4     0.152295             -0.203301         0.399057         0.065926   \n",
       "PC5    -0.109026             -0.500703         0.136860        -0.076437   \n",
       "PC6     0.018920              0.258594         0.533795         0.418644   \n",
       "PC7    -0.060685              0.595447         0.372139        -0.227712   \n",
       "PC8     0.187245              0.233285        -0.368227         0.033797   \n",
       "PC9     0.049578              0.195501        -0.209145         0.056218   \n",
       "PC10   -0.163151              0.215535         0.134184        -0.290775   \n",
       "PC11   -0.025694              0.116896        -0.237363         0.031839   \n",
       "PC12   -0.042899              0.042352        -0.095553         0.604222   \n",
       "PC13    0.832257              0.114040        -0.116917        -0.011993   \n",
       "\n",
       "           Hue     OD280   Proline  \n",
       "PC1   0.296715  0.376167  0.286752  \n",
       "PC2   0.279235  0.164496 -0.364903  \n",
       "PC3   0.085222  0.166005 -0.126746  \n",
       "PC4  -0.427771  0.184121 -0.232071  \n",
       "PC5  -0.173615 -0.101161 -0.157869  \n",
       "PC6  -0.105983 -0.265851 -0.119726  \n",
       "PC7   0.232076 -0.044764  0.076805  \n",
       "PC8  -0.436624  0.078108 -0.120023  \n",
       "PC9   0.085828  0.137227 -0.575786  \n",
       "PC10 -0.522399  0.523706  0.162116  \n",
       "PC11 -0.048212  0.046423  0.539270  \n",
       "PC12  0.259214  0.600959 -0.079402  \n",
       "PC13 -0.089889 -0.156718  0.014447  "
      ]
     },
     "execution_count": 22,
     "metadata": {},
     "output_type": "execute_result"
    }
   ],
   "source": [
    "loadings=results['loadings']\n",
    "loadings"
   ]
  },
  {
   "cell_type": "code",
   "execution_count": 23,
   "metadata": {},
   "outputs": [
    {
     "data": {
      "text/html": [
       "<div>\n",
       "<style scoped>\n",
       "    .dataframe tbody tr th:only-of-type {\n",
       "        vertical-align: middle;\n",
       "    }\n",
       "\n",
       "    .dataframe tbody tr th {\n",
       "        vertical-align: top;\n",
       "    }\n",
       "\n",
       "    .dataframe thead th {\n",
       "        text-align: right;\n",
       "    }\n",
       "</style>\n",
       "<table border=\"1\" class=\"dataframe\">\n",
       "  <thead>\n",
       "    <tr style=\"text-align: right;\">\n",
       "      <th></th>\n",
       "      <th>PC1</th>\n",
       "      <th>PC2</th>\n",
       "      <th>PC3</th>\n",
       "      <th>PC4</th>\n",
       "      <th>PC5</th>\n",
       "      <th>PC6</th>\n",
       "      <th>PC7</th>\n",
       "      <th>PC8</th>\n",
       "      <th>PC9</th>\n",
       "      <th>PC10</th>\n",
       "      <th>PC11</th>\n",
       "      <th>PC12</th>\n",
       "      <th>PC13</th>\n",
       "      <th>lables</th>\n",
       "    </tr>\n",
       "  </thead>\n",
       "  <tbody>\n",
       "    <tr>\n",
       "      <th>0</th>\n",
       "      <td>3.316751</td>\n",
       "      <td>-1.443463</td>\n",
       "      <td>-0.165739</td>\n",
       "      <td>-0.215631</td>\n",
       "      <td>0.693043</td>\n",
       "      <td>-0.223880</td>\n",
       "      <td>0.596427</td>\n",
       "      <td>0.065139</td>\n",
       "      <td>0.641443</td>\n",
       "      <td>1.020956</td>\n",
       "      <td>-0.451563</td>\n",
       "      <td>0.540810</td>\n",
       "      <td>-0.066239</td>\n",
       "      <td>1</td>\n",
       "    </tr>\n",
       "    <tr>\n",
       "      <th>1</th>\n",
       "      <td>2.209465</td>\n",
       "      <td>0.333393</td>\n",
       "      <td>-2.026457</td>\n",
       "      <td>-0.291358</td>\n",
       "      <td>-0.257655</td>\n",
       "      <td>-0.927120</td>\n",
       "      <td>0.053776</td>\n",
       "      <td>1.024416</td>\n",
       "      <td>-0.308847</td>\n",
       "      <td>0.159701</td>\n",
       "      <td>-0.142657</td>\n",
       "      <td>0.388238</td>\n",
       "      <td>0.003637</td>\n",
       "      <td>1</td>\n",
       "    </tr>\n",
       "    <tr>\n",
       "      <th>2</th>\n",
       "      <td>2.516740</td>\n",
       "      <td>-1.031151</td>\n",
       "      <td>0.982819</td>\n",
       "      <td>0.724902</td>\n",
       "      <td>-0.251033</td>\n",
       "      <td>0.549276</td>\n",
       "      <td>0.424205</td>\n",
       "      <td>-0.344216</td>\n",
       "      <td>-1.177834</td>\n",
       "      <td>0.113361</td>\n",
       "      <td>-0.286673</td>\n",
       "      <td>0.000584</td>\n",
       "      <td>0.021717</td>\n",
       "      <td>1</td>\n",
       "    </tr>\n",
       "    <tr>\n",
       "      <th>3</th>\n",
       "      <td>3.757066</td>\n",
       "      <td>-2.756372</td>\n",
       "      <td>-0.176192</td>\n",
       "      <td>0.567983</td>\n",
       "      <td>-0.311842</td>\n",
       "      <td>0.114431</td>\n",
       "      <td>-0.383337</td>\n",
       "      <td>0.643593</td>\n",
       "      <td>0.052544</td>\n",
       "      <td>0.239413</td>\n",
       "      <td>0.759584</td>\n",
       "      <td>-0.242020</td>\n",
       "      <td>-0.369484</td>\n",
       "      <td>1</td>\n",
       "    </tr>\n",
       "    <tr>\n",
       "      <th>4</th>\n",
       "      <td>1.008908</td>\n",
       "      <td>-0.869831</td>\n",
       "      <td>2.026688</td>\n",
       "      <td>-0.409766</td>\n",
       "      <td>0.298458</td>\n",
       "      <td>-0.406520</td>\n",
       "      <td>0.444074</td>\n",
       "      <td>0.416700</td>\n",
       "      <td>0.326819</td>\n",
       "      <td>-0.078366</td>\n",
       "      <td>-0.525945</td>\n",
       "      <td>-0.216664</td>\n",
       "      <td>-0.079364</td>\n",
       "      <td>1</td>\n",
       "    </tr>\n",
       "  </tbody>\n",
       "</table>\n",
       "</div>"
      ],
      "text/plain": [
       "        PC1       PC2       PC3       PC4       PC5       PC6       PC7  \\\n",
       "0  3.316751 -1.443463 -0.165739 -0.215631  0.693043 -0.223880  0.596427   \n",
       "1  2.209465  0.333393 -2.026457 -0.291358 -0.257655 -0.927120  0.053776   \n",
       "2  2.516740 -1.031151  0.982819  0.724902 -0.251033  0.549276  0.424205   \n",
       "3  3.757066 -2.756372 -0.176192  0.567983 -0.311842  0.114431 -0.383337   \n",
       "4  1.008908 -0.869831  2.026688 -0.409766  0.298458 -0.406520  0.444074   \n",
       "\n",
       "        PC8       PC9      PC10      PC11      PC12      PC13  lables  \n",
       "0  0.065139  0.641443  1.020956 -0.451563  0.540810 -0.066239       1  \n",
       "1  1.024416 -0.308847  0.159701 -0.142657  0.388238  0.003637       1  \n",
       "2 -0.344216 -1.177834  0.113361 -0.286673  0.000584  0.021717       1  \n",
       "3  0.643593  0.052544  0.239413  0.759584 -0.242020 -0.369484       1  \n",
       "4  0.416700  0.326819 -0.078366 -0.525945 -0.216664 -0.079364       1  "
      ]
     },
     "execution_count": 23,
     "metadata": {},
     "output_type": "execute_result"
    }
   ],
   "source": [
    "scores=results['PC']\n",
    "scores['lables']=labels\n",
    "scores.head()"
   ]
  },
  {
   "cell_type": "markdown",
   "metadata": {},
   "source": [
    "---\n",
    "## Scree plot"
   ]
  },
  {
   "cell_type": "code",
   "execution_count": 24,
   "metadata": {},
   "outputs": [
    {
     "data": {
      "image/png": "[encoded data removed]",
      "text/plain": [
       "<Figure size 720x576 with 1 Axes>"
      ]
     },
     "metadata": {
      "needs_background": "light"
     },
     "output_type": "display_data"
    },
    {
     "data": {
      "text/plain": [
       "<Figure size 432x288 with 0 Axes>"
      ]
     },
     "metadata": {},
     "output_type": "display_data"
    }
   ],
   "source": [
    "model.plot(figsize=(10,8))\n",
    "plt.show()"
   ]
  },
  {
   "cell_type": "markdown",
   "metadata": {},
   "source": [
    "---\n",
    "## Biplot\n",
    "\n",
    "Biplot displays both the PC scores and PC loadings. We will use the **pca.biplot_** method from the **pca** library. "
   ]
  },
  {
   "cell_type": "code",
   "execution_count": 25,
   "metadata": {},
   "outputs": [
    {
     "data": {
      "image/png": "[encoded data removed]",
      "text/plain": [
       "<Figure size 1152x864 with 1 Axes>"
      ]
     },
     "metadata": {
      "needs_background": "light"
     },
     "output_type": "display_data"
    }
   ],
   "source": [
    "model.biplot(n_feat=13,  legend=False, figsize=(16,12), y=labels , label=True)\n",
    "plt.show()"
   ]
  },
  {
   "cell_type": "markdown",
   "metadata": {},
   "source": [
    "###  Additional links:\n",
    "1. pca Python package documentation: https://pypi.org/project/pca/\n",
    "2. PCA sklearn documentation: https://scikit-learn.org/stable/modules/generated/sklearn.decomposition.PCA.html\n",
    "3. PCA visualization: https://setosa.io/ev/principal-component-analysis/\n",
    "4. Kernel PCA sklearn documentation: https://scikit-learn.org/stable/modules/generated/sklearn.decomposition.KernelPCA.html#sklearn.decomposition.KernelPCA\n",
    "5. Kernel PCA visualization: https://scikit-learn.org/stable/auto_examples/decomposition/plot_kernel_pca.html#sphx-glr-auto-examples-decomposition-plot-kernel-pca-py\n",
    "6. What is Singular Value Decomposition (SVD): https://www.youtube.com/watch?v=mBcLRGuAFUk"
   ]
  }
 ],
 "metadata": {
  "kernelspec": {
   "display_name": "Python 3",
   "language": "python",
   "name": "python3"
  },
  "language_info": {
   "codemirror_mode": {
    "name": "ipython",
    "version": 3
   },
   "file_extension": ".py",
   "mimetype": "text/x-python",
   "name": "python",
   "nbconvert_exporter": "python",
   "pygments_lexer": "ipython3",
   "version": "3.7.3"
  }
 },
 "nbformat": 4,
 "nbformat_minor": 4
}
